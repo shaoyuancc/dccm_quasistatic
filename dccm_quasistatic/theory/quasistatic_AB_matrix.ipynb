{
 "cells": [
  {
   "attachments": {},
   "cell_type": "markdown",
   "metadata": {},
   "source": [
    "# Quasistatic Planar Pushing A B Matrix"
   ]
  },
  {
   "attachments": {},
   "cell_type": "markdown",
   "metadata": {},
   "source": [
    "## Imports"
   ]
  },
  {
   "cell_type": "code",
   "execution_count": 1,
   "metadata": {},
   "outputs": [
    {
     "name": "stderr",
     "output_type": "stream",
     "text": [
      "/home/shaoyuan/Documents/Software/quasistatic_simulator/qsim/simulator.py:38: DrakeDeprecationWarning: Please import from the pydrake.solvers module directly, instead of the deprecated pydrake.solvers.mathematicalprogram submodule. The deprecated code will be removed from Drake on or after 2023-05-01.\n",
      "  from pydrake.solvers import mathematicalprogram as mp\n"
     ]
    }
   ],
   "source": [
    "import time\n",
    "import os\n",
    "import numpy as np\n",
    "\n",
    "from pydrake.all import Box, Sphere\n",
    "\n",
    "from qsim.parser import (\n",
    "    QuasistaticParser,\n",
    "    QuasistaticSystemBackend,\n",
    "    GradientMode,\n",
    ")\n",
    "\n",
    "from qsim.simulator import ForwardDynamicsMode, InternalVisualizationType\n",
    "from qsim.model_paths import models_dir"
   ]
  },
  {
   "attachments": {},
   "cell_type": "markdown",
   "metadata": {},
   "source": [
    "## Initialize Quasistatic Simulator"
   ]
  },
  {
   "cell_type": "code",
   "execution_count": 2,
   "metadata": {},
   "outputs": [
    {
     "name": "stderr",
     "output_type": "stream",
     "text": [
      "INFO:drake:Meshcat listening for connections at http://localhost:7002\n"
     ]
    }
   ],
   "source": [
    "q_model_path = os.path.join(models_dir, \"q_sys\", \"box_pushing.yml\")\n",
    "q_parser = QuasistaticParser(q_model_path)\n",
    "q_sim = q_parser.make_simulator_cpp()\n",
    "q_sim_py = q_parser.make_simulator_py(InternalVisualizationType.Cpp)\n",
    "q_sim_batch = q_parser.make_batch_simulator()"
   ]
  },
  {
   "attachments": {},
   "cell_type": "markdown",
   "metadata": {},
   "source": [
    "# Unwrapped version (Plain quasistatic sim)"
   ]
  },
  {
   "cell_type": "code",
   "execution_count": 3,
   "metadata": {},
   "outputs": [
    {
     "name": "stdout",
     "output_type": "stream",
     "text": [
      "[[ 9.90553945e-01  7.21210078e-14 -3.89032534e-14 -1.73091159e-02\n",
      "  -1.61508843e-14]\n",
      " [ 8.05134199e-14  1.00750154e+00  7.68977989e-03 -2.45432475e-14\n",
      "  -2.75574873e-02]\n",
      " [-1.87220248e-12  2.18569667e-01  7.81430334e-01 -6.54942341e-13\n",
      "  -4.37494156e-02]\n",
      " [ 9.44605539e-04 -7.21208574e-15  3.89031005e-15  1.73091159e-03\n",
      "   1.61508584e-15]\n",
      " [-8.05134039e-15 -7.50153696e-04 -7.68977835e-04  2.45434049e-15\n",
      "   2.75574818e-03]]\n"
     ]
    }
   ],
   "source": [
    "sim_params = q_sim.get_sim_params_copy()\n",
    "sim_params.h =0.1\n",
    "sim_params.use_free_solvers = False\n",
    "sim_params.gradient_mode = GradientMode.kAB\n",
    "sim_params.forward_mode = ForwardDynamicsMode.kLogIcecream\n",
    "sim_params.unactuated_mass_scale = 10\n",
    "sim_params.log_barrier_weight = 100\n",
    "\n",
    "q_u = np.array([0, 0, 0])\n",
    "q_a = np.array([-1, 0])\n",
    "q = np.concatenate((q_u, q_a)) # [box_x, box_y, box_theta, sphere_x, sphere_y]\n",
    "u = q_a\n",
    "q_sim_py.update_mbp_positions_from_vector(q)\n",
    "q_sim_py.draw_current_configuration()\n",
    "\n",
    "q_next = q_sim.calc_dynamics(q, u, sim_params)\n",
    "A = q_sim.get_Dq_nextDq()\n",
    "B = q_sim.get_Dq_nextDqa_cmd()\n",
    "print(A)"
   ]
  },
  {
   "cell_type": "code",
   "execution_count": 4,
   "metadata": {},
   "outputs": [
    {
     "name": "stdout",
     "output_type": "stream",
     "text": [
      "q_next_batch\n",
      " [[ 1.50881311e-02  1.06123159e-03  1.65008348e-03 -1.00150881e+00\n",
      "  -1.06123138e-04]\n",
      " [ 1.52462009e-02  1.15409430e-03  1.83838247e-03 -1.00152462e+00\n",
      "  -1.15409407e-04]\n",
      " [ 1.51217732e-02  4.79102123e-03  6.79094354e-03 -1.00151218e+00\n",
      "  -4.79102028e-04]\n",
      " ...\n",
      " [ 1.57929176e-02 -4.54436037e-04 -7.88505878e-04 -1.00157929e+00\n",
      "   4.54435946e-05]\n",
      " [ 1.79826435e-02 -4.29603134e-03 -9.02792883e-03 -1.00179826e+00\n",
      "   4.29603048e-04]\n",
      " [ 1.48015736e-02  1.68052335e-03  2.47263055e-03 -1.00148016e+00\n",
      "  -1.68052302e-04]]\n",
      "\n",
      "A_qunext_qa_mean\n",
      " [[-1.85022847e-02 -1.35425236e-04]\n",
      " [ 5.25223181e-05 -2.91995344e-02]\n",
      " [-5.27797693e-04 -4.31293571e-02]]\n",
      "\n",
      "A_zeroth_order\n",
      " [[-0.01865099  0.00012324]\n",
      " [ 0.00045948 -0.03018136]\n",
      " [ 0.00012441 -0.04452897]]\n",
      "\n",
      "dx_dq1\n",
      " [[-1.73089626e-02]\n",
      " [ 4.07181168e-07]\n",
      " [-1.94732558e-05]]\n"
     ]
    }
   ],
   "source": [
    "\n",
    "N = 1000\n",
    "w_std = 0.1\n",
    "dim_q = 2\n",
    "\n",
    "w = np.random.normal(0, w_std, (N,dim_q))\n",
    "\n",
    "q_u_batch = np.tile(q_u, (N,1))\n",
    "q_a_batch = np.tile(q_a, (N,1)) + w\n",
    "q_batch = np.hstack((q_u_batch, q_a_batch))\n",
    "u_batch = np.tile(u, (N,1))\n",
    "\n",
    "# print(\"q_u_batch\\n\", q_u_batch)\n",
    "# print(\"q_a_batch\\n\", q_a_batch)\n",
    "# print(\"q_batch\\n\", q_batch)\n",
    "# Option 1\n",
    "# q_next_batch, A_batch, B_batch, is_valid_batch = q_sim_batch.calc_dynamics_parallel(\n",
    "#             q_batch, q_a_batch, sim_params\n",
    "#         )\n",
    "# Option 2\n",
    "q_next_batch, A_batch, B_batch, is_valid_batch = q_sim_batch.calc_dynamics_parallel(\n",
    "            q_batch, u_batch, sim_params\n",
    "        )\n",
    "print(\"q_next_batch\\n\", q_next_batch)\n",
    "A_batch = np.array(A_batch)\n",
    "A_qunext_qa_batch = A_batch[:,q_sim.get_q_u_indices_into_q(),:][:,:,q_sim.get_q_a_indices_into_q()]\n",
    "A_mean = np.mean(A_qunext_qa_batch, axis=0)\n",
    "print(\"\\nA_qunext_qa_mean\\n\", A_mean)\n",
    "\n",
    "qu_next_batch = q_next_batch[:,q_sim.get_q_u_indices_into_q()]\n",
    "qu_next_bar = np.mean(qu_next_batch, axis=0)\n",
    "A_zeroth_order = np.mean(np.einsum('bi,bj->bij', qu_next_batch - qu_next_bar, w), axis=0) * (1/w_std**2)\n",
    "print(\"\\nA_zeroth_order\\n\", A_zeroth_order)\n",
    "\n",
    "# Finite difference\n",
    "h = 1e-7\n",
    "v = np.array([1,0])\n",
    "q_fdp = np.concatenate((q_u, q_a + h*v)) \n",
    "q_next_1 = q_sim.calc_dynamics(q_fdp, u, sim_params)\n",
    "q_u_next_1 = q_next_1[q_sim.get_q_u_indices_into_q()]\n",
    "q_fdn = np.concatenate((q_u, q_a - h*v)) \n",
    "q_next_2 = q_sim.calc_dynamics(q_fdn, u, sim_params)\n",
    "q_u_next_2 = q_next_2[q_sim.get_q_u_indices_into_q()]\n",
    "dx_dq1 = (q_u_next_1 - q_u_next_2) / (2*h)\n",
    "print(\"\\ndx_dq1\\n\", dx_dq1[:, np.newaxis])"
   ]
  },
  {
   "cell_type": "code",
   "execution_count": 5,
   "metadata": {},
   "outputs": [
    {
     "name": "stdout",
     "output_type": "stream",
     "text": [
      "q_next:\n",
      " [ 1.51913121e-02  9.52584963e-14 -4.55596098e-12 -1.00151913e+00\n",
      " -9.52588625e-15]\n",
      "A:\n",
      " [[ 9.90553945e-01  7.21245091e-14 -3.89043892e-14 -1.73091159e-02\n",
      "  -1.61535033e-14]\n",
      " [ 8.05151786e-14  1.00750154e+00  7.68977989e-03 -2.45426840e-14\n",
      "  -2.75574873e-02]\n",
      " [-1.87225505e-12  2.18569667e-01  7.81430334e-01 -6.54948398e-13\n",
      "  -4.37494156e-02]\n",
      " [ 9.44605539e-04 -7.21243685e-15  3.89042261e-15  1.73091159e-03\n",
      "   1.61533403e-15]\n",
      " [-8.05151655e-15 -7.50153696e-04 -7.68977835e-04  2.45441372e-15\n",
      "   2.75574818e-03]]\n",
      "B:\n",
      " [[ 2.67551713e-02 -5.59710058e-14]\n",
      " [-5.59724946e-14  2.00559489e-02]\n",
      " [ 2.52720345e-12 -1.74820251e-01]\n",
      " [ 9.97324483e-01  5.59710282e-15]\n",
      " [ 5.59710282e-15  9.97994406e-01]]\n",
      "A_qunext_qa:\n",
      " [[-1.73091159e-02 -1.61535033e-14]\n",
      " [-2.45426840e-14 -2.75574873e-02]\n",
      " [-6.54948398e-13 -4.37494156e-02]]\n",
      "B_qunext_u:\n",
      " [[ 2.67551713e-02 -5.59710058e-14]\n",
      " [-5.59724946e-14  2.00559489e-02]\n",
      " [ 2.52720345e-12 -1.74820251e-01]]\n",
      "delta_qu_next:\n",
      " [[ 9.44605539e-04]\n",
      " [-8.05151786e-15]\n",
      " [ 1.87225505e-13]]\n",
      "q_next_2:\n",
      " [ 1.63317451e-02 -8.97547694e-14  2.91354706e-12 -9.01633175e-01\n",
      "  8.97544925e-15]\n"
     ]
    }
   ],
   "source": [
    "q_u = np.array([0, 0, 0])\n",
    "q_a = np.array([-1, 0])\n",
    "q = np.concatenate((q_u, q_a)) # [box_x, box_y, box_theta, sphere_x, sphere_y]\n",
    "u = q_a\n",
    "q_sim_py.update_mbp_positions_from_vector(q)\n",
    "q_sim_py.draw_current_configuration()\n",
    "\n",
    "q_next = q_sim.calc_dynamics(q, u, sim_params)\n",
    "A = q_sim.get_Dq_nextDq()\n",
    "B = q_sim.get_Dq_nextDqa_cmd()\n",
    "print(\"q_next:\\n\",q_next)\n",
    "print(\"A:\\n\",A)\n",
    "print(\"B:\\n\",B)\n",
    "\n",
    "A_qunext_qa = A[q_sim.get_q_u_indices_into_q(),:][:,q_sim.get_q_a_indices_into_q()]\n",
    "B_qunext_u = B[q_sim.get_q_u_indices_into_q(),:]\n",
    "print(\"A_qunext_qa:\\n\",A_qunext_qa)\n",
    "print(\"B_qunext_u:\\n\",B_qunext_u)\n",
    "delta = np.array([0.1, 0])\n",
    "delta_qa = delta[:, np.newaxis]\n",
    "delta_u = delta_qa\n",
    "delta_qu_next = A_qunext_qa @ delta_qa + B_qunext_u @ delta_u\n",
    "print(\"delta_qu_next:\\n\",delta_qu_next)\n",
    "\n",
    "delta_q = np.concatenate((q_u, q_a + delta))\n",
    "q_next_2 = q_sim.calc_dynamics(delta_q, u + delta, sim_params)\n",
    "print(\"q_next_2:\\n\",q_next_2)"
   ]
  },
  {
   "attachments": {},
   "cell_type": "markdown",
   "metadata": {},
   "source": [
    "# Explanation of the issue\n",
    "Consider the initial configuration where the box is at the origin and the sphere is at x=-1 (y=0)."
   ]
  },
  {
   "cell_type": "code",
   "execution_count": 6,
   "metadata": {},
   "outputs": [
    {
     "name": "stdout",
     "output_type": "stream",
     "text": [
      "box position:  [0 0 0]\n",
      "sphere position:  [-1  0]\n"
     ]
    }
   ],
   "source": [
    "q_u = np.array([0, 0, 0])\n",
    "q_a = np.array([-1, 0])\n",
    "\n",
    "print(\"box position: \", q_u)\n",
    "print(\"sphere position: \", q_a)"
   ]
  },
  {
   "attachments": {},
   "cell_type": "markdown",
   "metadata": {},
   "source": [
    "If we evaluate the dynamics at in this configuration (with a nominal position command of u = sphere position) with smoothed dynamics we see that the sphere exerts a force from a distance on the box pushing it to the right by 0.015, and the sphere correspondingly experiences a force pushing it left by 0.002."
   ]
  },
  {
   "cell_type": "code",
   "execution_count": 7,
   "metadata": {},
   "outputs": [
    {
     "name": "stdout",
     "output_type": "stream",
     "text": [
      "q_next:\n",
      " [ 1.51913121e-02  9.52584963e-14 -4.55596098e-12 -1.00151913e+00\n",
      " -9.52588625e-15]\n"
     ]
    }
   ],
   "source": [
    "\n",
    "q = np.concatenate((q_u, q_a)) # [box_x, box_y, box_theta, sphere_x, sphere_y]\n",
    "u = q_a\n",
    "q_sim_py.update_mbp_positions_from_vector(q)\n",
    "q_sim_py.draw_current_configuration()\n",
    "q_next = q_sim.calc_dynamics(q, u, sim_params)\n",
    "print(\"q_next:\\n\",q_next)"
   ]
  },
  {
   "attachments": {},
   "cell_type": "markdown",
   "metadata": {},
   "source": [
    "The corresponding A and B matrices tell us how the full state would change wrt changes in the configuration, at this current configuration (it's the linearization at this point)"
   ]
  },
  {
   "cell_type": "code",
   "execution_count": 8,
   "metadata": {},
   "outputs": [
    {
     "name": "stdout",
     "output_type": "stream",
     "text": [
      "A:\n",
      " [[ 9.90553945e-01  7.21245091e-14 -3.89043892e-14 -1.73091159e-02\n",
      "  -1.61535033e-14]\n",
      " [ 8.05151786e-14  1.00750154e+00  7.68977989e-03 -2.45426840e-14\n",
      "  -2.75574873e-02]\n",
      " [-1.87225505e-12  2.18569667e-01  7.81430334e-01 -6.54948398e-13\n",
      "  -4.37494156e-02]\n",
      " [ 9.44605539e-04 -7.21243685e-15  3.89042261e-15  1.73091159e-03\n",
      "   1.61533403e-15]\n",
      " [-8.05151655e-15 -7.50153696e-04 -7.68977835e-04  2.45441372e-15\n",
      "   2.75574818e-03]]\n",
      "B:\n",
      " [[ 2.67551713e-02 -5.59710058e-14]\n",
      " [-5.59724946e-14  2.00559489e-02]\n",
      " [ 2.52720345e-12 -1.74820251e-01]\n",
      " [ 9.97324483e-01  5.59710282e-15]\n",
      " [ 5.59710282e-15  9.97994406e-01]]\n"
     ]
    }
   ],
   "source": [
    "A = q_sim.get_Dq_nextDq()\n",
    "B = q_sim.get_Dq_nextDqa_cmd()\n",
    "print(\"A:\\n\",A)\n",
    "print(\"B:\\n\",B)"
   ]
  },
  {
   "attachments": {},
   "cell_type": "markdown",
   "metadata": {},
   "source": [
    "We are interested in how the state of the box changes for a slight change in the nominal position of the sphere (and nominal position command - such that the sphere is commanded to not move basically), and so we can extract out the relevant parts of the A and B matrices that correspond to these mappings."
   ]
  },
  {
   "cell_type": "code",
   "execution_count": 9,
   "metadata": {},
   "outputs": [
    {
     "name": "stdout",
     "output_type": "stream",
     "text": [
      "A_qunext_qa:\n",
      " [[-1.73091159e-02 -1.61535033e-14]\n",
      " [-2.45426840e-14 -2.75574873e-02]\n",
      " [-6.54948398e-13 -4.37494156e-02]]\n",
      "B_qunext_u:\n",
      " [[ 2.67551713e-02 -5.59710058e-14]\n",
      " [-5.59724946e-14  2.00559489e-02]\n",
      " [ 2.52720345e-12 -1.74820251e-01]]\n"
     ]
    }
   ],
   "source": [
    "A_qunext_qa = A[q_sim.get_q_u_indices_into_q(),:][:,q_sim.get_q_a_indices_into_q()]\n",
    "B_qunext_u = B[q_sim.get_q_u_indices_into_q(),:]\n",
    "print(\"A_qunext_qa:\\n\",A_qunext_qa)\n",
    "print(\"B_qunext_u:\\n\",B_qunext_u)"
   ]
  },
  {
   "attachments": {},
   "cell_type": "markdown",
   "metadata": {},
   "source": [
    "To verify that these sub matrices make sense, let's consider a small delta [0.1, 0] in the position of the sphere (and corresponding delta in absolute position command). So this would mean if if we shifted the nominal positions and position commands to the right by 0.1, the sub A and B matrices should tell us the additional amount that the box would move. Thinking through it, the box should move slightly more to the right (positive x). Let's verify that this is what our sub A and B matrices tell us"
   ]
  },
  {
   "cell_type": "code",
   "execution_count": 10,
   "metadata": {},
   "outputs": [
    {
     "name": "stdout",
     "output_type": "stream",
     "text": [
      "delta_qu_next:\n",
      " [[ 9.44605539e-04]\n",
      " [-8.05151786e-15]\n",
      " [ 1.87225505e-13]]\n"
     ]
    }
   ],
   "source": [
    "delta = np.array([0.1, 0])\n",
    "delta_qa = delta[:, np.newaxis]\n",
    "delta_u = delta_qa\n",
    "delta_qu_next = A_qunext_qa @ delta_qa + B_qunext_u @ delta_u\n",
    "print(\"delta_qu_next:\\n\",delta_qu_next)"
   ]
  },
  {
   "attachments": {},
   "cell_type": "markdown",
   "metadata": {},
   "source": [
    "Perfect! It shows us that we expect the box to move 0.001 more to the left, which appears to be directionally correct. Now feeding our nominal + delta configuration to evaluate the dynamics, let's see that we get that this is 0.001 different from the nominal configuration:"
   ]
  },
  {
   "cell_type": "code",
   "execution_count": 11,
   "metadata": {},
   "outputs": [
    {
     "name": "stdout",
     "output_type": "stream",
     "text": [
      "q_next:  [ 1.51913121e-02  9.52584963e-14 -4.55596098e-12 -1.00151913e+00\n",
      " -9.52588625e-15]\n",
      "q_next_2:  [ 1.63317451e-02 -8.97522160e-14  2.91356364e-12 -9.01633175e-01\n",
      "  8.97524941e-15]\n"
     ]
    }
   ],
   "source": [
    "delta_q = np.concatenate((q_u, q_a + delta))\n",
    "q_next_2 = q_sim.calc_dynamics(delta_q, u + delta, sim_params)\n",
    "print(\"q_next: \", q_next)\n",
    "print(\"q_next_2: \",q_next_2)"
   ]
  },
  {
   "attachments": {},
   "cell_type": "markdown",
   "metadata": {},
   "source": [
    "Our results are exactly what we expect."
   ]
  },
  {
   "cell_type": "code",
   "execution_count": null,
   "metadata": {},
   "outputs": [],
   "source": []
  }
 ],
 "metadata": {
  "kernelspec": {
   "display_name": "venv",
   "language": "python",
   "name": "python3"
  },
  "language_info": {
   "codemirror_mode": {
    "name": "ipython",
    "version": 3
   },
   "file_extension": ".py",
   "mimetype": "text/x-python",
   "name": "python",
   "nbconvert_exporter": "python",
   "pygments_lexer": "ipython3",
   "version": "3.8.10"
  },
  "orig_nbformat": 4
 },
 "nbformat": 4,
 "nbformat_minor": 2
}
