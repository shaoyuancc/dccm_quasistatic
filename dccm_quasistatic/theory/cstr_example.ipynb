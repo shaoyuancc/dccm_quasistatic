{
 "cells": [
  {
   "cell_type": "code",
   "execution_count": 26,
   "metadata": {},
   "outputs": [],
   "source": [
    "import numpy as np\n",
    "\n",
    "from pydrake.all import (MathematicalProgram, Solve, MonomialBasis,\n",
    "                         Variables, Polynomial)\n",
    "import pydrake.symbolic as sym\n"
   ]
  },
  {
   "cell_type": "code",
   "execution_count": 57,
   "metadata": {},
   "outputs": [
    {
     "name": "stdout",
     "output_type": "stream",
     "text": [
      "v:  [<Expression \"pow(x_{k}(1), 6)\">, <Expression \"(x_{k}(0) * pow(x_{k}(1), 5))\">, <Expression \"(pow(x_{k}(0), 2) * pow(x_{k}(1), 4))\">, <Expression \"(pow(x_{k}(0), 3) * pow(x_{k}(1), 3))\">, <Expression \"(pow(x_{k}(0), 4) * pow(x_{k}(1), 2))\">, <Expression \"(pow(x_{k}(0), 5) * x_{k}(1))\">, <Expression \"pow(x_{k}(0), 6)\">, <Expression \"pow(x_{k}(1), 5)\">, <Expression \"(x_{k}(0) * pow(x_{k}(1), 4))\">, <Expression \"(pow(x_{k}(0), 2) * pow(x_{k}(1), 3))\">, <Expression \"(pow(x_{k}(0), 3) * pow(x_{k}(1), 2))\">, <Expression \"(pow(x_{k}(0), 4) * x_{k}(1))\">, <Expression \"pow(x_{k}(0), 5)\">, <Expression \"pow(x_{k}(1), 4)\">, <Expression \"(x_{k}(0) * pow(x_{k}(1), 3))\">, <Expression \"(pow(x_{k}(0), 2) * pow(x_{k}(1), 2))\">, <Expression \"(pow(x_{k}(0), 3) * x_{k}(1))\">, <Expression \"pow(x_{k}(0), 4)\">, <Expression \"pow(x_{k}(1), 3)\">, <Expression \"(x_{k}(0) * pow(x_{k}(1), 2))\">, <Expression \"(pow(x_{k}(0), 2) * x_{k}(1))\">, <Expression \"pow(x_{k}(0), 3)\">, <Expression \"pow(x_{k}(1), 2)\">, <Expression \"(x_{k}(0) * x_{k}(1))\">, <Expression \"pow(x_{k}(0), 2)\">, <Expression \"x_{k}(1)\">, <Expression \"x_{k}(0)\">, <Expression \"1\">]\n",
      "Wk:  (2, 2)\n",
      "Ak:  (2, 2)\n",
      "Bk:  (2, 1)\n",
      "Lk:  (2, 1)\n",
      "v:  (28, 1)\n",
      "omega:  (4, 4)\n"
     ]
    }
   ],
   "source": [
    "prog = MathematicalProgram()\n",
    "deg = 6\n",
    "# Convergence rate = 1-beta\n",
    "beta = 0.1\n",
    "# Indeterminates\n",
    "x = prog.NewIndeterminates(2, 'x_{k}')\n",
    "u = prog.NewIndeterminates(1, 'u_{k}')\n",
    "x_next = prog.NewIndeterminates(2, 'x_{k+1}')\n",
    "\n",
    "# Dynamics contraint\n",
    "prog.AddEqualityConstraintBetweenPolynomials(\n",
    "    Polynomial(x_next[0]),\n",
    "    Polynomial(1.1*x[0] - 0.1*x[0]*x[1] + u[0])\n",
    ")\n",
    "prog.AddEqualityConstraintBetweenPolynomials(\n",
    "    Polynomial(x_next[1]),\n",
    "    Polynomial(0.9*x[1] + 0.9*x[0])\n",
    ")\n",
    "\n",
    "# A and B matrices\n",
    "Ak = np.array([[1.1-0.1*x[1],   -0.1*x[0]],\n",
    "               [0.1         ,   0.9]])\n",
    "Bk = np.array([1, 0])[:, np.newaxis]\n",
    "\n",
    "# Monomial basis\n",
    "v = [monomial.ToExpression() for monomial in MonomialBasis(x, deg)]\n",
    "v_next = [monomial.ToExpression() for monomial in MonomialBasis(x_next, deg)]\n",
    "print(\"v: \", v)\n",
    "# print(v_next)\n",
    "dim_v = len(v)\n",
    "w11c = prog.NewContinuousVariables(dim_v, 'w11c')\n",
    "w12c = prog.NewContinuousVariables(dim_v, 'w12c')\n",
    "w22c = prog.NewContinuousVariables(dim_v, 'w22c')\n",
    "# print(\"w11c: \", w11c)\n",
    "\n",
    "W11k = w11c.dot(v)\n",
    "W12k = w12c.dot(v)\n",
    "W22k = w22c.dot(v)\n",
    "Wk = np.array([[W11k, W12k], [W12k, W22k]])\n",
    "# print(\"W11k: \", W11k)\n",
    "\n",
    "\n",
    "W11k_next = w11c.dot(v_next)\n",
    "W12k_next = w12c.dot(v_next)\n",
    "W22k_next = w22c.dot(v_next)\n",
    "Wk_next = np.array([[W11k_next, W12k_next], [W12k_next, W22k_next]])\n",
    "\n",
    "r = prog.NewContinuousVariables(1, 'r')\n",
    "\n",
    "l1c = prog.NewContinuousVariables(dim_v, 'l1c')\n",
    "l2c = prog.NewContinuousVariables(dim_v, 'l2c')\n",
    "\n",
    "L1k = l1c.dot(v)\n",
    "L2k = l2c.dot(v)\n",
    "Lk = np.array([L1k, L2k])[:, np.newaxis]\n",
    "\n",
    "print(\"Wk: \", Wk.shape)\n",
    "print(\"Ak: \", Ak.shape)\n",
    "print(\"Bk: \", Bk.shape)\n",
    "print(\"Lk: \", Lk.shape)\n",
    "\n",
    "prog.AddLinearCost(r[0])\n",
    "prog.AddLinearConstraint(r[0] >= 0)\n",
    "\n",
    "v = np.array(v).reshape(-1, 1)\n",
    "print(\"v: \", v.shape)\n",
    "# Question: Bk is 2x1 and Lk is 2x1, should Lk be transposed so that you take the outer product and it becomes 2x2?\n",
    "cross_diag = Ak @ Wk + Bk @ Lk.T\n",
    "omega = np.block([[Wk_next, cross_diag],\n",
    "                 [cross_diag.T, (1-beta)*Wk]])\n",
    "print(\"omega: \", omega.shape)\n",
    "# Question: What is the w and what are it's dimensions? needs to be 2x1...\n",
    "# prog.AddSosConstraint(v.T @ omega @ v - r * np.eye(4))\n"
   ]
  },
  {
   "cell_type": "code",
   "execution_count": null,
   "metadata": {},
   "outputs": [],
   "source": []
  }
 ],
 "metadata": {
  "kernelspec": {
   "display_name": "venv",
   "language": "python",
   "name": "python3"
  },
  "language_info": {
   "codemirror_mode": {
    "name": "ipython",
    "version": 3
   },
   "file_extension": ".py",
   "mimetype": "text/x-python",
   "name": "python",
   "nbconvert_exporter": "python",
   "pygments_lexer": "ipython3",
   "version": "3.8.10"
  },
  "orig_nbformat": 4
 },
 "nbformat": 4,
 "nbformat_minor": 2
}
