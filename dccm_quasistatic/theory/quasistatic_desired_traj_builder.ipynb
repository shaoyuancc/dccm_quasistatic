{
 "cells": [
  {
   "attachments": {},
   "cell_type": "markdown",
   "metadata": {},
   "source": [
    "# Quasistatic Planar Creating Desired Trajectories"
   ]
  },
  {
   "attachments": {},
   "cell_type": "markdown",
   "metadata": {},
   "source": [
    "## Imports"
   ]
  },
  {
   "cell_type": "code",
   "execution_count": 1,
   "metadata": {},
   "outputs": [
    {
     "name": "stderr",
     "output_type": "stream",
     "text": [
      "/home/shaoyuan/Documents/Software/quasistatic_simulator/robotics_utilities/qp_derivatives/qp_derivatives.py:2: DrakeDeprecationWarning: Please import from the pydrake.solvers module directly, instead of the deprecated pydrake.solvers.mathematicalprogram submodule. The deprecated code will be removed from Drake on or after 2023-05-01.\n",
      "  import pydrake.solvers.mathematicalprogram as mp\n"
     ]
    }
   ],
   "source": [
    "import time\n",
    "import os\n",
    "import numpy as np\n",
    "\n",
    "from pydrake.all import (PiecewisePolynomial, ModelInstanceIndex,\n",
    "    RotationMatrix, RigidTransform, Rgba, Box, Sphere, BaseField,\n",
    "    Evaluate, Fields, PointCloud, MeshcatAnimation)\n",
    "\n",
    "from qsim.parser import (\n",
    "    QuasistaticParser,\n",
    "    QuasistaticSystemBackend,\n",
    "    GradientMode,\n",
    ")\n",
    "\n",
    "from qsim.simulator import ForwardDynamicsMode, InternalVisualizationType\n",
    "from qsim.model_paths import models_dir, package_paths_dict"
   ]
  },
  {
   "attachments": {},
   "cell_type": "markdown",
   "metadata": {},
   "source": [
    "## Initialize Quasistatic Simulator"
   ]
  },
  {
   "cell_type": "code",
   "execution_count": 2,
   "metadata": {},
   "outputs": [
    {
     "name": "stderr",
     "output_type": "stream",
     "text": [
      "INFO:drake:Meshcat listening for connections at http://localhost:7000\n"
     ]
    }
   ],
   "source": [
    "# q_model_path = os.path.join(models_dir, \"q_sys\", \"box_pushing.yml\")\n",
    "package_paths_dict[\"dccm_quasistatic\"] =  \"/home/shaoyuan/Documents/Software/dccm_quasistatic\"\n",
    "q_model_path = os.path.join(\"../../models\", \"q_sys\", \"box_pushing.yml\")\n",
    "q_parser = QuasistaticParser(q_model_path)\n",
    "q_sim = q_parser.make_simulator_cpp()\n",
    "q_sim_py = q_parser.make_simulator_py(InternalVisualizationType.Cpp)\n",
    "q_sim_batch = q_parser.make_batch_simulator()"
   ]
  },
  {
   "cell_type": "code",
   "execution_count": 3,
   "metadata": {},
   "outputs": [],
   "source": [
    "meshcat = q_sim_py.meshcat\n",
    "def draw_pose_of_box(name, pos, color):\n",
    "    pose = RigidTransform(RotationMatrix().MakeXRotation(pos[-1]), np.concatenate(([0], pos[0:2])))\n",
    "    \n",
    "    meshcat.SetObject(name, Box(1,1,1), rgba=color)\n",
    "    meshcat.SetTransform(name, pose)\n",
    "\n",
    "\n",
    "def visualize_open_loop_traj(q0, q_desired, sim_params):\n",
    "    q = q0\n",
    "    actual = [q0]\n",
    "    for i, q_des in enumerate(q_desired):\n",
    "        if i == len(q_desired) - 1:\n",
    "            break\n",
    "        u_desired = q_desired[i+1, -2:]\n",
    "        b_des = q_des[:3]\n",
    "        draw_pose_of_box(\"b_des\", b_des, Rgba(1, 0, 0, 1))\n",
    "        q_sim_py.update_mbp_positions_from_vector(q)\n",
    "        q_sim_py.draw_current_configuration()\n",
    "        time.sleep(0.05)\n",
    "        q = q_sim.calc_dynamics(q, u_desired, sim_params)\n",
    "        actual.append(q)\n",
    "    return np.array(actual)\n",
    "\n",
    "def make_desired_traj_achievable(q_desired, sim_params):\n",
    "    actual = [q_desired[0]]\n",
    "    q = q_desired[0]\n",
    "    for i, q_des in enumerate(q_desired):\n",
    "        if i == len(q_desired) - 1:\n",
    "            u_desired = q_desired[i, -2:]\n",
    "        else:\n",
    "            u_desired = q_desired[i+1, -2:]\n",
    "        b_des = q_des[:3]\n",
    "        q_sim_py.update_mbp_positions_from_vector(q)\n",
    "        q_sim_py.draw_current_configuration()\n",
    "        time.sleep(0.05)\n",
    "        q = q_sim.calc_dynamics(q, u_desired, sim_params)\n",
    "        actual.append(q)\n",
    "    return np.array(actual)\n",
    "\n",
    "def make_idealized_traj(b_r, s_r, theta_buff, n_steps):\n",
    "    q_desired = []\n",
    "    for i in range(n_steps):\n",
    "        b_theta = np.pi * 2 * i / n_steps\n",
    "        b_x = b_r * np.sin(b_theta)\n",
    "        b_y = b_r * np.cos(b_theta)\n",
    "        s_theta = b_theta - theta_buff\n",
    "        s_x = s_r * np.sin(s_theta)\n",
    "        s_y = s_r * np.cos(s_theta)\n",
    "        q = np.array([b_x, b_y, -b_theta, s_x, s_y])\n",
    "        q_desired.append(q)\n",
    "        q_sim_py.update_mbp_positions_from_vector(q)\n",
    "        # q_sim_py.draw_current_configuration()\n",
    "        # time.sleep(0.03)\n",
    "        # q_next = q_sim.calc_dynamics(q, q[-2:], sim_params)\n",
    "        \n",
    "        # q_sim_py.update_mbp_positions_from_vector(q_next)\n",
    "        # q_sim_py.draw_current_configuration()\n",
    "        # time.sleep(0.3)\n",
    "    return np.array(q_desired)"
   ]
  },
  {
   "attachments": {},
   "cell_type": "markdown",
   "metadata": {},
   "source": [
    "## Creating q_desired for planar pushing (Log barrier weight 10)"
   ]
  },
  {
   "cell_type": "code",
   "execution_count": 5,
   "metadata": {},
   "outputs": [],
   "source": [
    "# This trajectory is s_r is not large enough\n",
    "\n",
    "sim_params = q_sim.get_sim_params_copy()\n",
    "sim_params.h = 0.1\n",
    "sim_params.use_free_solvers = False\n",
    "sim_params.gradient_mode = GradientMode.kAB\n",
    "sim_params.forward_mode = ForwardDynamicsMode.kLogIcecream\n",
    "sim_params.unactuated_mass_scale = 10\n",
    "sim_params.log_barrier_weight = 10\n",
    "\n",
    "q_desired = []\n",
    "n_steps = 100\n",
    "b_r = 1.5\n",
    "s_r = b_r + 1.05\n",
    "theta_buff = 0.9\n",
    "for i in range(n_steps):\n",
    "    b_theta = np.pi * 2 * i / n_steps\n",
    "    b_x = b_r * np.sin(b_theta)\n",
    "    b_y = b_r * np.cos(b_theta)\n",
    "    s_theta = b_theta - theta_buff\n",
    "    s_x = s_r * np.sin(s_theta)\n",
    "    s_y = s_r * np.cos(s_theta)\n",
    "    q = np.array([b_x, b_y, -b_theta, s_x, s_y])\n",
    "    q_desired.append(q)\n",
    "    q_sim_py.update_mbp_positions_from_vector(q)\n",
    "    q_sim_py.draw_current_configuration()\n",
    "    time.sleep(0.05)\n",
    "    # q_next = q_sim.calc_dynamics(q, q[-2:], sim_params)\n",
    "    \n",
    "    # q_sim_py.update_mbp_positions_from_vector(q_next)\n",
    "    # q_sim_py.draw_current_configuration()\n",
    "    # time.sleep(0.3)\n",
    "q_desired = np.array(q_desired)\n"
   ]
  },
  {
   "cell_type": "code",
   "execution_count": null,
   "metadata": {},
   "outputs": [],
   "source": [
    "# This trajectory of u_desired works open loop\n",
    "# Most ideal trajectory for b_r = 1.5\n",
    "\n",
    "sim_params = q_sim.get_sim_params_copy()\n",
    "sim_params.h =0.1\n",
    "sim_params.use_free_solvers = False\n",
    "sim_params.gradient_mode = GradientMode.kAB\n",
    "sim_params.forward_mode = ForwardDynamicsMode.kLogIcecream\n",
    "sim_params.unactuated_mass_scale = 10\n",
    "sim_params.log_barrier_weight = 10\n",
    "\n",
    "q_desired = []\n",
    "n_steps = 100\n",
    "b_r = 1.5\n",
    "s_r = b_r + 1.1\n",
    "theta_buff = 0.9\n",
    "for i in range(n_steps):\n",
    "    b_theta = np.pi * 2 * i / n_steps\n",
    "    b_x = b_r * np.sin(b_theta)\n",
    "    b_y = b_r * np.cos(b_theta)\n",
    "    s_theta = b_theta - theta_buff\n",
    "    s_x = s_r * np.sin(s_theta)\n",
    "    s_y = s_r * np.cos(s_theta)\n",
    "    q = np.array([b_x, b_y, -b_theta, s_x, s_y])\n",
    "    q_desired.append(q)\n",
    "    q_sim_py.update_mbp_positions_from_vector(q)\n",
    "    q_sim_py.draw_current_configuration()\n",
    "    time.sleep(0.01)\n",
    "    # q_next = q_sim.calc_dynamics(q, q[-2:], sim_params)\n",
    "    \n",
    "    # q_sim_py.update_mbp_positions_from_vector(q_next)\n",
    "    # q_sim_py.draw_current_configuration()\n",
    "    # time.sleep(0.3)\n",
    "q_desired = np.array(q_desired)\n"
   ]
  },
  {
   "cell_type": "code",
   "execution_count": null,
   "metadata": {},
   "outputs": [],
   "source": [
    "# s_r is too large\n",
    "\n",
    "sim_params = q_sim.get_sim_params_copy()\n",
    "sim_params.h =0.1\n",
    "sim_params.use_free_solvers = False\n",
    "sim_params.gradient_mode = GradientMode.kAB\n",
    "sim_params.forward_mode = ForwardDynamicsMode.kLogIcecream\n",
    "sim_params.unactuated_mass_scale = 10\n",
    "sim_params.log_barrier_weight = 10\n",
    "\n",
    "q_desired = []\n",
    "n_steps = 100\n",
    "b_r = 1.5\n",
    "s_r = b_r + 1.6\n",
    "theta_buff = 0.9\n",
    "for i in range(n_steps):\n",
    "    b_theta = np.pi * 2 * i / n_steps\n",
    "    b_x = b_r * np.sin(b_theta)\n",
    "    b_y = b_r * np.cos(b_theta)\n",
    "    s_theta = b_theta - theta_buff\n",
    "    s_x = s_r * np.sin(s_theta)\n",
    "    s_y = s_r * np.cos(s_theta)\n",
    "    q = np.array([b_x, b_y, -b_theta, s_x, s_y])\n",
    "    q_desired.append(q)\n",
    "    q_sim_py.update_mbp_positions_from_vector(q)\n",
    "    q_sim_py.draw_current_configuration()\n",
    "    time.sleep(0.01)\n",
    "    # q_next = q_sim.calc_dynamics(q, q[-2:], sim_params)\n",
    "    \n",
    "    # q_sim_py.update_mbp_positions_from_vector(q_next)\n",
    "    # q_sim_py.draw_current_configuration()\n",
    "    # time.sleep(0.3)\n",
    "q_desired = np.array(q_desired)\n"
   ]
  },
  {
   "cell_type": "code",
   "execution_count": null,
   "metadata": {},
   "outputs": [],
   "source": [
    "# This trajectory of u_desired works open loop\n",
    "# Most ideal trajectory for b_r = 1.2\n",
    "\n",
    "q_desired = []\n",
    "n_steps = 100\n",
    "b_r = 1.2\n",
    "s_r = b_r + 1.7\n",
    "theta_buff = 0.7\n",
    "for i in range(n_steps):\n",
    "    b_theta = np.pi * 2 * i / n_steps\n",
    "    b_x = b_r * np.sin(b_theta)\n",
    "    b_y = b_r * np.cos(b_theta)\n",
    "    s_theta = b_theta - theta_buff\n",
    "    s_x = s_r * np.sin(s_theta)\n",
    "    s_y = s_r * np.cos(s_theta)\n",
    "    q = np.array([b_x, b_y, -b_theta, s_x, s_y])\n",
    "    q_desired.append(q)\n",
    "    q_sim_py.update_mbp_positions_from_vector(q)\n",
    "    q_sim_py.draw_current_configuration()\n",
    "    time.sleep(0.01)\n",
    "    # q_next = q_sim.calc_dynamics(q, q[-2:], sim_params)\n",
    "    \n",
    "    # q_sim_py.update_mbp_positions_from_vector(q_next)\n",
    "    # q_sim_py.draw_current_configuration()\n",
    "    # time.sleep(0.3)\n",
    "q_desired = np.array(q_desired)"
   ]
  },
  {
   "attachments": {},
   "cell_type": "markdown",
   "metadata": {},
   "source": [
    "Running that desired trajectory open loop"
   ]
  },
  {
   "cell_type": "code",
   "execution_count": null,
   "metadata": {},
   "outputs": [],
   "source": [
    "q = q_desired[0]\n",
    "visualize_open_loop_traj(q, q_desired, sim_params)"
   ]
  },
  {
   "attachments": {},
   "cell_type": "markdown",
   "metadata": {},
   "source": [
    "Visualizing open loop control on the spliced trajectories including initial disturbance\n"
   ]
  },
  {
   "cell_type": "code",
   "execution_count": null,
   "metadata": {},
   "outputs": [],
   "source": [
    "\n",
    "\n",
    "n_steps = 100\n",
    "b_r = 1.4\n",
    "s_r = b_r + 1.3\n",
    "theta_buff = 0.9\n",
    "q_desired_1 = make_idealized_traj(b_r, s_r, theta_buff, n_steps)\n",
    "q_desired_1 = make_desired_traj_achievable(np.array(q_desired_1), sim_params=sim_params)\n",
    "\n",
    "# visualize_open_loop_traj(q_desired_1[0], q_desired_1)\n",
    "\n",
    "b_r = 1.5\n",
    "s_r = b_r + 1.1\n",
    "theta_buff = 0.9\n",
    "q_desired_2 = make_idealized_traj(b_r, s_r, theta_buff, n_steps)\n",
    "q_desired_2 = make_desired_traj_achievable(np.array(q_desired_2), sim_params=sim_params)\n",
    "# visualize_open_loop_traj(q_desired_2[0], q_desired_2)\n",
    "\n",
    "# Splice the the two trajectories together\n",
    "break_idx = int(n_steps/3)\n",
    "# lower, higher, lower\n",
    "# q_desired = np.concatenate((q_desired_1[:break_idx], q_desired_2[break_idx:break_idx*2], q_desired_1[break_idx*2:]), axis=0)\n",
    "# higher, lower, higher\n",
    "# q_desired = np.concatenate((q_desired_2[:break_idx], q_desired_1[break_idx:break_idx*2], q_desired_2[break_idx*2:]), axis=0)\n",
    "\n",
    "break_idx = int(n_steps/2)\n",
    "# lower, higher # this one seems to correct itself not a good example\n",
    "# q_desired = np.concatenate((q_desired_1[:break_idx], q_desired_2[break_idx:]), axis=0)\n",
    "# higher, lower # this is a pretty good test case, see if the controller can achieve lower error than this open loop traj\n",
    "traj_id = \"A\"\n",
    "q_desired = np.concatenate((q_desired_2[:break_idx], q_desired_1[break_idx:]), axis=0)\n",
    "# q_desired = q_desired_2\n",
    "\n",
    "initial_offset = np.array([0.2, -0.1, 0.1, 0.1, 0.2])\n",
    "q = q_desired[0] + initial_offset\n",
    "visualize_open_loop_traj(q, q_desired)"
   ]
  },
  {
   "cell_type": "code",
   "execution_count": null,
   "metadata": {},
   "outputs": [],
   "source": [
    "# adding the initial state to the traj data\n",
    "import zarr\n",
    "import numpy as np\n",
    "traj_id = \"A\"\n",
    "traj_file_name = f\"desired_trajectories/{traj_id}.zarr\"\n",
    "traj = zarr.open_group(traj_file_name, mode='a')\n",
    "q_desired = traj[\"q_desired\"]\n",
    "initial_offset = np.array([0.2, -0.1, 0.1, 0.1, 0.2])\n",
    "q0 = q_desired[0] + initial_offset\n",
    "traj[\"q0\"] = q0"
   ]
  },
  {
   "cell_type": "code",
   "execution_count": 7,
   "metadata": {},
   "outputs": [],
   "source": [
    "# adding open loop control to the traj data\n",
    "import zarr\n",
    "import numpy as np\n",
    "traj_id = \"A\"\n",
    "traj_file_name = f\"desired_trajectories/{traj_id}.zarr\"\n",
    "traj = zarr.open_group(traj_file_name, mode='a')\n",
    "traj[\"q_openloop\"] = visualize_open_loop_traj(traj[\"q0\"][:], traj[\"q_desired\"][:], sim_params) \n"
   ]
  },
  {
   "attachments": {},
   "cell_type": "markdown",
   "metadata": {},
   "source": [
    "## Log barrier weight 100"
   ]
  },
  {
   "attachments": {},
   "cell_type": "markdown",
   "metadata": {},
   "source": [
    "### B"
   ]
  },
  {
   "cell_type": "code",
   "execution_count": null,
   "metadata": {},
   "outputs": [],
   "source": [
    "# def make_desired_traj_achievable(q_desired, sim_params):\n",
    "#     actual = [q_desired[0]]\n",
    "#     q = q_desired[0]\n",
    "#     for i, q_des in enumerate(q_desired):\n",
    "#         if i == len(q_desired) - 1:\n",
    "#             u_desired = q_desired[i, -2:]\n",
    "#         else:\n",
    "#             u_desired = q_desired[i+1, -2:]\n",
    "#         b_des = q_des[:3]\n",
    "#         q_sim_py.update_mbp_positions_from_vector(q)\n",
    "#         q_sim_py.draw_current_configuration()\n",
    "#         time.sleep(0.05)\n",
    "#         q = q_sim.calc_dynamics(q, u_desired, sim_params)\n",
    "#         actual.append(q)\n",
    "#     return np.array(actual)\n",
    "\n",
    "def make_desired_traj_achievable(q_desired, sim_params):\n",
    "    actual = q_desired\n",
    "    q = q_desired[0]\n",
    "    for i, q_des in enumerate(q_desired):\n",
    "        if i == len(q_desired) - 1:\n",
    "            u_desired = q_desired[i, -2:]\n",
    "        else:\n",
    "            u_desired = q_desired[i+1, -2:]\n",
    "        b_des = q_des[:3]\n",
    "        actual[i, :3] = q[:3]\n",
    "        q_sim_py.update_mbp_positions_from_vector(q)\n",
    "        q_sim_py.draw_current_configuration()\n",
    "        # time.sleep(0.05)\n",
    "        q = q_sim.calc_dynamics(q, u_desired, sim_params)\n",
    "        \n",
    "    return actual\n",
    "\n",
    "def make_idealized_traj(b_r, s_r, theta_buff, n_steps):\n",
    "    q_desired = []\n",
    "    for i in range(n_steps):\n",
    "        b_theta = np.pi * 2 * i / n_steps\n",
    "        b_x = b_r * np.sin(b_theta)\n",
    "        b_y = b_r * np.cos(b_theta)\n",
    "        s_theta = b_theta - theta_buff\n",
    "        s_x = s_r * np.sin(s_theta)\n",
    "        s_y = s_r * np.cos(s_theta)\n",
    "        q = np.array([b_x, b_y, -b_theta, s_x, s_y])\n",
    "        q_desired.append(q)\n",
    "        q_sim_py.update_mbp_positions_from_vector(q)\n",
    "    return np.array(q_desired)"
   ]
  },
  {
   "cell_type": "code",
   "execution_count": null,
   "metadata": {},
   "outputs": [],
   "source": [
    "sim_params = q_sim.get_sim_params_copy()\n",
    "sim_params.h =0.1\n",
    "sim_params.use_free_solvers = False\n",
    "sim_params.gradient_mode = GradientMode.kAB\n",
    "sim_params.forward_mode = ForwardDynamicsMode.kLogIcecream\n",
    "sim_params.unactuated_mass_scale = 10\n",
    "sim_params.log_barrier_weight = 100\n",
    "\n",
    "n_steps = 100\n",
    "b_r = 1.2\n",
    "s_r = b_r + 0.21298\n",
    "theta_buff = 0.45\n",
    "q_desired_1 = make_idealized_traj(b_r, s_r, theta_buff, n_steps)\n",
    "q_desired_1 = make_desired_traj_achievable(q_desired_1, sim_params=sim_params)\n",
    "\n",
    "visualize_open_loop_traj(q_desired_1[0], q_desired_1, sim_params)"
   ]
  },
  {
   "cell_type": "code",
   "execution_count": null,
   "metadata": {},
   "outputs": [],
   "source": [
    "n_steps = 100\n",
    "b_r = 1.0\n",
    "s_r = b_r + 0.2445\n",
    "theta_buff = 0.5\n",
    "q_desired_2 = make_idealized_traj(b_r, s_r, theta_buff, n_steps)\n",
    "q_desired_2 = make_desired_traj_achievable(q_desired_2, sim_params=sim_params)\n",
    "\n",
    "visualize_open_loop_traj(q_desired_2[0], q_desired_2, sim_params)"
   ]
  },
  {
   "cell_type": "code",
   "execution_count": null,
   "metadata": {},
   "outputs": [],
   "source": [
    "break_idx = int(n_steps/2)\n",
    "# lower, higher # this one seems to correct itself not a good example\n",
    "# q_desired = np.concatenate((q_desired_1[:break_idx], q_desired_2[break_idx:]), axis=0)\n",
    "# higher, lower # this is a pretty good test case, see if the controller can achieve lower error than this open loop traj\n",
    "traj_id = \"B\"\n",
    "q_desired = np.concatenate((q_desired_2[:break_idx], q_desired_1[break_idx:]), axis=0)\n",
    "# q_desired = q_desired_2\n",
    "\n",
    "initial_offset = np.array([0.1, -0.1, 0.05, 0.1, 0.05])\n",
    "q = q_desired[0] + initial_offset\n",
    "# q = q_desired[0]\n",
    "visualize_open_loop_traj(q, q_desired, sim_params=sim_params)"
   ]
  },
  {
   "cell_type": "code",
   "execution_count": null,
   "metadata": {},
   "outputs": [],
   "source": [
    "import zarr\n",
    "import numpy as np\n",
    "traj_id = \"B\"\n",
    "traj_file_name = f\"desired_trajectories/{traj_id}.zarr\"\n",
    "traj = zarr.open_group(traj_file_name, mode='a')\n",
    "q_desired = traj[\"q_desired\"]\n",
    "# initial_offset = np.array([0.2, -0.1, 0.1, 0.1, 0.2])\n",
    "# q0 = q_desired[0] + initial_offset\n",
    "traj[\"q0\"] = q_desired[0]"
   ]
  },
  {
   "attachments": {},
   "cell_type": "markdown",
   "metadata": {},
   "source": [
    "### C"
   ]
  },
  {
   "cell_type": "code",
   "execution_count": null,
   "metadata": {},
   "outputs": [],
   "source": [
    "sim_params = q_sim.get_sim_params_copy()\n",
    "sim_params.h =0.1\n",
    "sim_params.use_free_solvers = False\n",
    "sim_params.gradient_mode = GradientMode.kAB\n",
    "sim_params.forward_mode = ForwardDynamicsMode.kLogIcecream\n",
    "sim_params.unactuated_mass_scale = 10\n",
    "sim_params.log_barrier_weight = 100\n",
    "\n",
    "n_steps = 100\n",
    "b_r = 1.2\n",
    "s_r = b_r + 0.21298\n",
    "theta_buff = 0.45\n",
    "q_desired_1 = make_idealized_traj(b_r, s_r, theta_buff, n_steps)\n",
    "q_desired_1 = make_desired_traj_achievable(q_desired_1, sim_params=sim_params)\n",
    "\n",
    "visualize_open_loop_traj(q_desired_1[0], q_desired_1, sim_params)"
   ]
  },
  {
   "cell_type": "code",
   "execution_count": null,
   "metadata": {},
   "outputs": [],
   "source": [
    "n_steps = 100\n",
    "b_r = 1.1\n",
    "s_r = b_r + 0.224\n",
    "theta_buff = 0.45\n",
    "q_desired_2 = make_idealized_traj(b_r, s_r, theta_buff, n_steps)\n",
    "q_desired_2 = make_desired_traj_achievable(q_desired_2, sim_params=sim_params)\n",
    "\n",
    "visualize_open_loop_traj(q_desired_2[0], q_desired_2, sim_params)"
   ]
  },
  {
   "cell_type": "code",
   "execution_count": null,
   "metadata": {},
   "outputs": [],
   "source": [
    "break_idx = int(n_steps/2)\n",
    "# lower, higher \n",
    "# q_desired = np.concatenate((q_desired_1[:break_idx], q_desired_2[break_idx:]), axis=0)\n",
    "# higher, lower\n",
    "traj_id = \"C\"\n",
    "q_desired = np.concatenate((q_desired_2[:break_idx], q_desired_1[break_idx:]), axis=0)\n",
    "# q_desired = q_desired_2\n",
    "\n",
    "initial_offset = np.array([0.01, -0.01, 0.01, 0.01, -0.01])\n",
    "q = q_desired[0] + initial_offset\n",
    "# q = q_desired[0]\n",
    "visualize_open_loop_traj(q, q_desired, sim_params=sim_params)"
   ]
  },
  {
   "cell_type": "code",
   "execution_count": null,
   "metadata": {},
   "outputs": [],
   "source": [
    "import zarr\n",
    "traj_file_name = f\"desired_trajectories/{traj_id}.zarr\"\n",
    "traj = zarr.open_group(traj_file_name, mode='w')\n",
    "traj[\"q_desired\"] = q_desired\n",
    "traj[\"q0\"] = q"
   ]
  },
  {
   "cell_type": "code",
   "execution_count": null,
   "metadata": {},
   "outputs": [],
   "source": [
    "traj = zarr.open_group(traj_file_name, mode='r')\n",
    "q_desired = traj[\"q_desired\"]\n",
    "q0 = traj[\"q0\"]\n",
    "visualize_open_loop_traj(q0, q_desired, sim_params=sim_params)"
   ]
  },
  {
   "cell_type": "code",
   "execution_count": null,
   "metadata": {},
   "outputs": [],
   "source": []
  }
 ],
 "metadata": {
  "kernelspec": {
   "display_name": "venv",
   "language": "python",
   "name": "python3"
  },
  "language_info": {
   "codemirror_mode": {
    "name": "ipython",
    "version": 3
   },
   "file_extension": ".py",
   "mimetype": "text/x-python",
   "name": "python",
   "nbconvert_exporter": "python",
   "pygments_lexer": "ipython3",
   "version": "3.8.10"
  },
  "orig_nbformat": 4
 },
 "nbformat": 4,
 "nbformat_minor": 2
}
