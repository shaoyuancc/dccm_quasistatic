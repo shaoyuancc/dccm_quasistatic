{
 "cells": [
  {
   "attachments": {},
   "cell_type": "markdown",
   "metadata": {},
   "source": [
    "# Quasistatic Planar Creating Desired Trajectories"
   ]
  },
  {
   "attachments": {},
   "cell_type": "markdown",
   "metadata": {},
   "source": [
    "## Imports"
   ]
  },
  {
   "cell_type": "code",
   "execution_count": 1,
   "metadata": {},
   "outputs": [
    {
     "name": "stderr",
     "output_type": "stream",
     "text": [
      "/home/shaoyuan/Documents/Software/quasistatic_simulator/robotics_utilities/qp_derivatives/qp_derivatives.py:2: DrakeDeprecationWarning: Please import from the pydrake.solvers module directly, instead of the deprecated pydrake.solvers.mathematicalprogram submodule. The deprecated code will be removed from Drake on or after 2023-05-01.\n",
      "  import pydrake.solvers.mathematicalprogram as mp\n"
     ]
    }
   ],
   "source": [
    "import time\n",
    "import os\n",
    "import numpy as np\n",
    "\n",
    "from pydrake.all import (PiecewisePolynomial, ModelInstanceIndex,\n",
    "    RotationMatrix, RigidTransform, Rgba, Box, Sphere, BaseField,\n",
    "    Evaluate, Fields, PointCloud, MeshcatAnimation)\n",
    "\n",
    "from qsim.parser import (\n",
    "    QuasistaticParser,\n",
    "    QuasistaticSystemBackend,\n",
    "    GradientMode,\n",
    ")\n",
    "\n",
    "from qsim.simulator import ForwardDynamicsMode, InternalVisualizationType\n",
    "from qsim.model_paths import models_dir, package_paths_dict"
   ]
  },
  {
   "attachments": {},
   "cell_type": "markdown",
   "metadata": {},
   "source": [
    "## Initialize Quasistatic Simulator"
   ]
  },
  {
   "cell_type": "code",
   "execution_count": 2,
   "metadata": {},
   "outputs": [
    {
     "name": "stderr",
     "output_type": "stream",
     "text": [
      "INFO:drake:Meshcat listening for connections at http://localhost:7000\n"
     ]
    }
   ],
   "source": [
    "# q_model_path = os.path.join(models_dir, \"q_sys\", \"box_pushing.yml\")\n",
    "package_paths_dict[\"dccm_quasistatic\"] =  \"/home/shaoyuan/Documents/Software/dccm_quasistatic\"\n",
    "q_model_path = os.path.join(\"../../models\", \"q_sys\", \"box_pushing.yml\")\n",
    "q_parser = QuasistaticParser(q_model_path)\n",
    "q_sim = q_parser.make_simulator_cpp()\n",
    "q_sim_py = q_parser.make_simulator_py(InternalVisualizationType.Cpp)\n",
    "q_sim_batch = q_parser.make_batch_simulator()"
   ]
  },
  {
   "attachments": {},
   "cell_type": "markdown",
   "metadata": {},
   "source": [
    "## Creating q_desired for planar pushing"
   ]
  },
  {
   "cell_type": "code",
   "execution_count": null,
   "metadata": {},
   "outputs": [],
   "source": [
    "# This trajectory is s_r is not large enough\n",
    "\n",
    "sim_params = q_sim.get_sim_params_copy()\n",
    "sim_params.h =0.1\n",
    "sim_params.use_free_solvers = False\n",
    "sim_params.gradient_mode = GradientMode.kAB\n",
    "sim_params.forward_mode = ForwardDynamicsMode.kLogIcecream\n",
    "sim_params.unactuated_mass_scale = 10\n",
    "sim_params.log_barrier_weight = 10\n",
    "\n",
    "q_desired = []\n",
    "n_steps = 100\n",
    "b_r = 1.5\n",
    "s_r = b_r + 1.05\n",
    "theta_buff = 0.9\n",
    "for i in range(n_steps):\n",
    "    b_theta = np.pi * 2 * i / n_steps\n",
    "    b_x = b_r * np.sin(b_theta)\n",
    "    b_y = b_r * np.cos(b_theta)\n",
    "    s_theta = b_theta - theta_buff\n",
    "    s_x = s_r * np.sin(s_theta)\n",
    "    s_y = s_r * np.cos(s_theta)\n",
    "    q = np.array([b_x, b_y, -b_theta, s_x, s_y])\n",
    "    q_desired.append(q)\n",
    "    q_sim_py.update_mbp_positions_from_vector(q)\n",
    "    q_sim_py.draw_current_configuration()\n",
    "    time.sleep(0.05)\n",
    "    # q_next = q_sim.calc_dynamics(q, q[-2:], sim_params)\n",
    "    \n",
    "    # q_sim_py.update_mbp_positions_from_vector(q_next)\n",
    "    # q_sim_py.draw_current_configuration()\n",
    "    # time.sleep(0.3)\n",
    "q_desired = np.array(q_desired)\n"
   ]
  },
  {
   "cell_type": "code",
   "execution_count": null,
   "metadata": {},
   "outputs": [],
   "source": [
    "# This trajectory of u_desired works open loop\n",
    "# Most ideal trajectory for b_r = 1.5\n",
    "\n",
    "sim_params = q_sim.get_sim_params_copy()\n",
    "sim_params.h =0.1\n",
    "sim_params.use_free_solvers = False\n",
    "sim_params.gradient_mode = GradientMode.kAB\n",
    "sim_params.forward_mode = ForwardDynamicsMode.kLogIcecream\n",
    "sim_params.unactuated_mass_scale = 10\n",
    "sim_params.log_barrier_weight = 10\n",
    "\n",
    "q_desired = []\n",
    "n_steps = 100\n",
    "b_r = 1.5\n",
    "s_r = b_r + 1.1\n",
    "theta_buff = 0.9\n",
    "for i in range(n_steps):\n",
    "    b_theta = np.pi * 2 * i / n_steps\n",
    "    b_x = b_r * np.sin(b_theta)\n",
    "    b_y = b_r * np.cos(b_theta)\n",
    "    s_theta = b_theta - theta_buff\n",
    "    s_x = s_r * np.sin(s_theta)\n",
    "    s_y = s_r * np.cos(s_theta)\n",
    "    q = np.array([b_x, b_y, -b_theta, s_x, s_y])\n",
    "    q_desired.append(q)\n",
    "    q_sim_py.update_mbp_positions_from_vector(q)\n",
    "    q_sim_py.draw_current_configuration()\n",
    "    time.sleep(0.01)\n",
    "    # q_next = q_sim.calc_dynamics(q, q[-2:], sim_params)\n",
    "    \n",
    "    # q_sim_py.update_mbp_positions_from_vector(q_next)\n",
    "    # q_sim_py.draw_current_configuration()\n",
    "    # time.sleep(0.3)\n",
    "q_desired = np.array(q_desired)\n"
   ]
  },
  {
   "cell_type": "code",
   "execution_count": null,
   "metadata": {},
   "outputs": [],
   "source": [
    "# s_r is too large\n",
    "\n",
    "sim_params = q_sim.get_sim_params_copy()\n",
    "sim_params.h =0.1\n",
    "sim_params.use_free_solvers = False\n",
    "sim_params.gradient_mode = GradientMode.kAB\n",
    "sim_params.forward_mode = ForwardDynamicsMode.kLogIcecream\n",
    "sim_params.unactuated_mass_scale = 10\n",
    "sim_params.log_barrier_weight = 10\n",
    "\n",
    "q_desired = []\n",
    "n_steps = 100\n",
    "b_r = 1.5\n",
    "s_r = b_r + 1.6\n",
    "theta_buff = 0.9\n",
    "for i in range(n_steps):\n",
    "    b_theta = np.pi * 2 * i / n_steps\n",
    "    b_x = b_r * np.sin(b_theta)\n",
    "    b_y = b_r * np.cos(b_theta)\n",
    "    s_theta = b_theta - theta_buff\n",
    "    s_x = s_r * np.sin(s_theta)\n",
    "    s_y = s_r * np.cos(s_theta)\n",
    "    q = np.array([b_x, b_y, -b_theta, s_x, s_y])\n",
    "    q_desired.append(q)\n",
    "    q_sim_py.update_mbp_positions_from_vector(q)\n",
    "    q_sim_py.draw_current_configuration()\n",
    "    time.sleep(0.01)\n",
    "    # q_next = q_sim.calc_dynamics(q, q[-2:], sim_params)\n",
    "    \n",
    "    # q_sim_py.update_mbp_positions_from_vector(q_next)\n",
    "    # q_sim_py.draw_current_configuration()\n",
    "    # time.sleep(0.3)\n",
    "q_desired = np.array(q_desired)\n"
   ]
  },
  {
   "cell_type": "code",
   "execution_count": null,
   "metadata": {},
   "outputs": [],
   "source": [
    "# This trajectory of u_desired works open loop\n",
    "# Most ideal trajectory for b_r = 1.2\n",
    "\n",
    "q_desired = []\n",
    "n_steps = 100\n",
    "b_r = 1.2\n",
    "s_r = b_r + 1.7\n",
    "theta_buff = 0.7\n",
    "for i in range(n_steps):\n",
    "    b_theta = np.pi * 2 * i / n_steps\n",
    "    b_x = b_r * np.sin(b_theta)\n",
    "    b_y = b_r * np.cos(b_theta)\n",
    "    s_theta = b_theta - theta_buff\n",
    "    s_x = s_r * np.sin(s_theta)\n",
    "    s_y = s_r * np.cos(s_theta)\n",
    "    q = np.array([b_x, b_y, -b_theta, s_x, s_y])\n",
    "    q_desired.append(q)\n",
    "    q_sim_py.update_mbp_positions_from_vector(q)\n",
    "    q_sim_py.draw_current_configuration()\n",
    "    time.sleep(0.03)\n",
    "    # q_next = q_sim.calc_dynamics(q, q[-2:], sim_params)\n",
    "    \n",
    "    # q_sim_py.update_mbp_positions_from_vector(q_next)\n",
    "    # q_sim_py.draw_current_configuration()\n",
    "    # time.sleep(0.3)\n",
    "q_desired = np.array(q_desired)"
   ]
  },
  {
   "attachments": {},
   "cell_type": "markdown",
   "metadata": {},
   "source": [
    "Running that desired trajectory open loop"
   ]
  },
  {
   "cell_type": "code",
   "execution_count": null,
   "metadata": {},
   "outputs": [],
   "source": [
    "meshcat = q_sim_py.meshcat\n",
    "def draw_pose_of_box(name, pos, color):\n",
    "    pose = RigidTransform(RotationMatrix().MakeXRotation(pos[-1]), np.concatenate(([0], pos[0:2])))\n",
    "    \n",
    "    meshcat.SetObject(name, Box(1,1,1), rgba=color)\n",
    "    meshcat.SetTransform(name, pose)\n",
    "\n",
    "\n",
    "def visualize_open_loop_traj(q0, q_desired):\n",
    "    q = q0\n",
    "    for i, q_des in enumerate(q_desired):\n",
    "        if i == len(q_desired) - 1:\n",
    "            break\n",
    "        u_desired = q_desired[i+1, -2:]\n",
    "        b_des = q_des[:3]\n",
    "        draw_pose_of_box(\"b_des\", b_des, Rgba(1, 0, 0, 1))\n",
    "        q_sim_py.update_mbp_positions_from_vector(q)\n",
    "        q_sim_py.draw_current_configuration()\n",
    "        time.sleep(0.1)\n",
    "        q = q_sim.calc_dynamics(q, u_desired, sim_params)"
   ]
  },
  {
   "cell_type": "code",
   "execution_count": null,
   "metadata": {},
   "outputs": [],
   "source": [
    "q = q_desired[0]\n",
    "visualize_open_loop_traj(q, q_desired)"
   ]
  },
  {
   "attachments": {},
   "cell_type": "markdown",
   "metadata": {},
   "source": [
    "Visualizing open loop control on the spliced trajectories including initial disturbance\n"
   ]
  },
  {
   "cell_type": "code",
   "execution_count": null,
   "metadata": {},
   "outputs": [],
   "source": [
    "meshcat = q_sim_py.meshcat\n",
    "def draw_pose_of_box(name, pos, color):\n",
    "    pose = RigidTransform(RotationMatrix().MakeXRotation(pos[-1]), np.concatenate(([0], pos[0:2])))\n",
    "    \n",
    "    meshcat.SetObject(name, Box(1,1,1), rgba=color)\n",
    "    meshcat.SetTransform(name, pose)\n",
    "    \n",
    "def make_desired_traj_achievable(q_desired):\n",
    "    actual = [q_desired[0]]\n",
    "    q = q_desired[0]\n",
    "    for i, q_des in enumerate(q_desired):\n",
    "        if i == len(q_desired) - 1:\n",
    "            u_desired = q_desired[i, -2:]\n",
    "        else:\n",
    "            u_desired = q_desired[i+1, -2:]\n",
    "        b_des = q_des[:3]\n",
    "        q_sim_py.update_mbp_positions_from_vector(q)\n",
    "        # q_sim_py.draw_current_configuration()\n",
    "        # time.sleep(0.02)\n",
    "        q = q_sim.calc_dynamics(q, u_desired, sim_params)\n",
    "        actual.append(q)\n",
    "    return np.array(actual)\n",
    "\n",
    "# This trajectory of u_desired works open loop\n",
    "# Most ideal trajectory for b_r = 1.2\n",
    "def make_idealized_traj(b_r, s_r, theta_buff, n_steps):\n",
    "    q_desired = []\n",
    "    for i in range(n_steps):\n",
    "        b_theta = np.pi * 2 * i / n_steps\n",
    "        b_x = b_r * np.sin(b_theta)\n",
    "        b_y = b_r * np.cos(b_theta)\n",
    "        s_theta = b_theta - theta_buff\n",
    "        s_x = s_r * np.sin(s_theta)\n",
    "        s_y = s_r * np.cos(s_theta)\n",
    "        q = np.array([b_x, b_y, -b_theta, s_x, s_y])\n",
    "        q_desired.append(q)\n",
    "        q_sim_py.update_mbp_positions_from_vector(q)\n",
    "        # q_sim_py.draw_current_configuration()\n",
    "        # time.sleep(0.03)\n",
    "        # q_next = q_sim.calc_dynamics(q, q[-2:], sim_params)\n",
    "        \n",
    "        # q_sim_py.update_mbp_positions_from_vector(q_next)\n",
    "        # q_sim_py.draw_current_configuration()\n",
    "        # time.sleep(0.3)\n",
    "    return np.array(q_desired)\n",
    "\n",
    "n_steps = 100\n",
    "b_r = 1.4\n",
    "s_r = b_r + 1.3\n",
    "theta_buff = 0.9\n",
    "q_desired_1 = make_idealized_traj(b_r, s_r, theta_buff, n_steps)\n",
    "q_desired_1 = make_desired_traj_achievable(np.array(q_desired_1))\n",
    "\n",
    "# visualize_open_loop_traj(q_desired_1[0], q_desired_1)\n",
    "\n",
    "b_r = 1.5\n",
    "s_r = b_r + 1.1\n",
    "theta_buff = 0.9\n",
    "q_desired_2 = make_idealized_traj(b_r, s_r, theta_buff, n_steps)\n",
    "q_desired_2 = make_desired_traj_achievable(np.array(q_desired_2))\n",
    "# visualize_open_loop_traj(q_desired_2[0], q_desired_2)\n",
    "\n",
    "# Splice the the two trajectories together\n",
    "break_idx = int(n_steps/3)\n",
    "# lower, higher, lower\n",
    "# q_desired = np.concatenate((q_desired_1[:break_idx], q_desired_2[break_idx:break_idx*2], q_desired_1[break_idx*2:]), axis=0)\n",
    "# higher, lower, higher\n",
    "# q_desired = np.concatenate((q_desired_2[:break_idx], q_desired_1[break_idx:break_idx*2], q_desired_2[break_idx*2:]), axis=0)\n",
    "\n",
    "break_idx = int(n_steps/2)\n",
    "# lower, higher # this one seems to correct itself not a good example\n",
    "# q_desired = np.concatenate((q_desired_1[:break_idx], q_desired_2[break_idx:]), axis=0)\n",
    "# higher, lower # this is a pretty good test case, see if the controller can achieve lower error than this open loop traj\n",
    "q_desired = np.concatenate((q_desired_2[:break_idx], q_desired_1[break_idx:]), axis=0)\n",
    "# q_desired = q_desired_2\n",
    "\n",
    "initial_offset = np.array([0.2, -0.1, 0.1, 0.1, 0.2])\n",
    "q = q_desired[0] + initial_offset\n",
    "visualize_open_loop_traj(q, q_desired)"
   ]
  },
  {
   "attachments": {},
   "cell_type": "markdown",
   "metadata": {},
   "source": [
    "# Unwrapped version (Plain quasistatic sim)"
   ]
  },
  {
   "cell_type": "code",
   "execution_count": null,
   "metadata": {},
   "outputs": [],
   "source": [
    "sim_params = q_sim.get_sim_params_copy()\n",
    "sim_params.h =0.1\n",
    "sim_params.use_free_solvers = False\n",
    "sim_params.gradient_mode = GradientMode.kAB\n",
    "sim_params.forward_mode = ForwardDynamicsMode.kLogIcecream\n",
    "sim_params.unactuated_mass_scale = 10\n",
    "sim_params.log_barrier_weight = 100\n",
    "\n",
    "q_u = np.array([0, 0, 0])\n",
    "q_a = np.array([-1, 0])\n",
    "q = np.concatenate((q_u, q_a)) # [box_x, box_y, box_theta, sphere_x, sphere_y]\n",
    "u = q_a\n",
    "q_sim_py.update_mbp_positions_from_vector(q)\n",
    "q_sim_py.draw_current_configuration()\n",
    "\n",
    "q_next = q_sim.calc_dynamics(q, u, sim_params)\n",
    "A = q_sim.get_Dq_nextDq()\n",
    "B = q_sim.get_Dq_nextDqa_cmd()\n",
    "print(A)"
   ]
  },
  {
   "cell_type": "code",
   "execution_count": null,
   "metadata": {},
   "outputs": [],
   "source": [
    "\n",
    "N = 1000\n",
    "w_std = 0.1\n",
    "dim_q = 2\n",
    "\n",
    "w = np.random.normal(0, w_std, (N,dim_q))\n",
    "\n",
    "q_u_batch = np.tile(q_u, (N,1))\n",
    "q_a_batch = np.tile(q_a, (N,1)) + w\n",
    "q_batch = np.hstack((q_u_batch, q_a_batch))\n",
    "u_batch = np.tile(u, (N,1))\n",
    "\n",
    "# print(\"q_u_batch\\n\", q_u_batch)\n",
    "# print(\"q_a_batch\\n\", q_a_batch)\n",
    "# print(\"q_batch\\n\", q_batch)\n",
    "# Option 1\n",
    "# q_next_batch, A_batch, B_batch, is_valid_batch = q_sim_batch.calc_dynamics_parallel(\n",
    "#             q_batch, q_a_batch, sim_params\n",
    "#         )\n",
    "# Option 2\n",
    "q_next_batch, A_batch, B_batch, is_valid_batch = q_sim_batch.calc_dynamics_parallel(\n",
    "            q_batch, u_batch, sim_params\n",
    "        )\n",
    "print(\"q_next_batch\\n\", q_next_batch)\n",
    "A_batch = np.array(A_batch)\n",
    "A_qunext_qa_batch = A_batch[:,q_sim.get_q_u_indices_into_q(),:][:,:,q_sim.get_q_a_indices_into_q()]\n",
    "A_mean = np.mean(A_qunext_qa_batch, axis=0)\n",
    "print(\"\\nA_qunext_qa_mean\\n\", A_mean)\n",
    "\n",
    "qu_next_batch = q_next_batch[:,q_sim.get_q_u_indices_into_q()]\n",
    "qu_next_bar = np.mean(qu_next_batch, axis=0)\n",
    "A_zeroth_order = np.mean(np.einsum('bi,bj->bij', qu_next_batch - qu_next_bar, w), axis=0) * (1/w_std**2)\n",
    "print(\"\\nA_zeroth_order\\n\", A_zeroth_order)\n",
    "\n",
    "# Finite difference\n",
    "h = 1e-7\n",
    "v = np.array([1,0])\n",
    "q_fdp = np.concatenate((q_u, q_a + h*v)) \n",
    "q_next_1 = q_sim.calc_dynamics(q_fdp, u, sim_params)\n",
    "q_u_next_1 = q_next_1[q_sim.get_q_u_indices_into_q()]\n",
    "q_fdn = np.concatenate((q_u, q_a - h*v)) \n",
    "q_next_2 = q_sim.calc_dynamics(q_fdn, u, sim_params)\n",
    "q_u_next_2 = q_next_2[q_sim.get_q_u_indices_into_q()]\n",
    "dx_dq1 = (q_u_next_1 - q_u_next_2) / (2*h)\n",
    "print(\"\\ndx_dq1\\n\", dx_dq1[:, np.newaxis])"
   ]
  },
  {
   "cell_type": "code",
   "execution_count": null,
   "metadata": {},
   "outputs": [],
   "source": [
    "q_u = np.array([0, 0, 0])\n",
    "q_a = np.array([-1, 0])\n",
    "q = np.concatenate((q_u, q_a)) # [box_x, box_y, box_theta, sphere_x, sphere_y]\n",
    "u = q_a\n",
    "q_sim_py.update_mbp_positions_from_vector(q)\n",
    "q_sim_py.draw_current_configuration()\n",
    "\n",
    "q_next = q_sim.calc_dynamics(q, u, sim_params)\n",
    "A = q_sim.get_Dq_nextDq()\n",
    "B = q_sim.get_Dq_nextDqa_cmd()\n",
    "print(\"q_next:\\n\",q_next)\n",
    "print(\"A:\\n\",A)\n",
    "print(\"B:\\n\",B)\n",
    "\n",
    "A_qunext_qa = A[q_sim.get_q_u_indices_into_q(),:][:,q_sim.get_q_a_indices_into_q()]\n",
    "B_qunext_u = B[q_sim.get_q_u_indices_into_q(),:]\n",
    "print(\"A_qunext_qa:\\n\",A_qunext_qa)\n",
    "print(\"B_qunext_u:\\n\",B_qunext_u)\n",
    "delta = np.array([0.1, 0])\n",
    "delta_qa = delta[:, np.newaxis]\n",
    "delta_u = delta_qa\n",
    "delta_qu_next = A_qunext_qa @ delta_qa + B_qunext_u @ delta_u\n",
    "print(\"delta_qu_next:\\n\",delta_qu_next)\n",
    "\n",
    "delta_q = np.concatenate((q_u, q_a + delta))\n",
    "q_next_2 = q_sim.calc_dynamics(delta_q, u + delta, sim_params)\n",
    "print(\"q_next_2:\\n\",q_next_2)"
   ]
  },
  {
   "attachments": {},
   "cell_type": "markdown",
   "metadata": {},
   "source": [
    "# Explanation of the issue\n",
    "Consider the initial configuration where the box is at the origin and the sphere is at x=-1 (y=0)."
   ]
  },
  {
   "cell_type": "code",
   "execution_count": null,
   "metadata": {},
   "outputs": [],
   "source": [
    "q_u = np.array([0, 0, 0])\n",
    "q_a = np.array([-1, 0])\n",
    "\n",
    "print(\"box position: \", q_u)\n",
    "print(\"sphere position: \", q_a)"
   ]
  },
  {
   "attachments": {},
   "cell_type": "markdown",
   "metadata": {},
   "source": [
    "If we evaluate the dynamics at in this configuration (with a nominal position command of u = sphere position) with smoothed dynamics we see that the sphere exerts a force from a distance on the box pushing it to the right by 0.015, and the sphere correspondingly experiences a force pushing it left by 0.002."
   ]
  },
  {
   "cell_type": "code",
   "execution_count": null,
   "metadata": {},
   "outputs": [],
   "source": [
    "\n",
    "q = np.concatenate((q_u, q_a)) # [box_x, box_y, box_theta, sphere_x, sphere_y]\n",
    "u = q_a\n",
    "q_sim_py.update_mbp_positions_from_vector(q)\n",
    "q_sim_py.draw_current_configuration()\n",
    "q_next = q_sim.calc_dynamics(q, u, sim_params)\n",
    "print(\"q_next:\\n\",q_next)"
   ]
  },
  {
   "attachments": {},
   "cell_type": "markdown",
   "metadata": {},
   "source": [
    "The corresponding A and B matrices tell us how the full state would change wrt changes in the configuration, at this current configuration (it's the linearization at this point)"
   ]
  },
  {
   "cell_type": "code",
   "execution_count": null,
   "metadata": {},
   "outputs": [],
   "source": [
    "A = q_sim.get_Dq_nextDq()\n",
    "B = q_sim.get_Dq_nextDqa_cmd()\n",
    "print(\"A:\\n\",A)\n",
    "print(\"B:\\n\",B)"
   ]
  },
  {
   "attachments": {},
   "cell_type": "markdown",
   "metadata": {},
   "source": [
    "We are interested in how the state of the box changes for a slight change in the nominal position of the sphere (and nominal position command - such that the sphere is commanded to not move basically), and so we can extract out the relevant parts of the A and B matrices that correspond to these mappings."
   ]
  },
  {
   "cell_type": "code",
   "execution_count": null,
   "metadata": {},
   "outputs": [],
   "source": [
    "A_qunext_qa = A[q_sim.get_q_u_indices_into_q(),:][:,q_sim.get_q_a_indices_into_q()]\n",
    "B_qunext_u = B[q_sim.get_q_u_indices_into_q(),:]\n",
    "print(\"A_qunext_qa:\\n\",A_qunext_qa)\n",
    "print(\"B_qunext_u:\\n\",B_qunext_u)"
   ]
  },
  {
   "attachments": {},
   "cell_type": "markdown",
   "metadata": {},
   "source": [
    "To verify that these sub matrices make sense, let's consider a small delta [0.1, 0] in the position of the sphere (and corresponding delta in absolute position command). So this would mean if if we shifted the nominal positions and position commands to the right by 0.1, the sub A and B matrices should tell us the additional amount that the box would move. Thinking through it, the box should move slightly more to the right (positive x). Let's verify that this is what our sub A and B matrices tell us"
   ]
  },
  {
   "cell_type": "code",
   "execution_count": null,
   "metadata": {},
   "outputs": [],
   "source": [
    "delta = np.array([0.1, 0])\n",
    "delta_qa = delta[:, np.newaxis]\n",
    "delta_u = delta_qa\n",
    "delta_qu_next = A_qunext_qa @ delta_qa + B_qunext_u @ delta_u\n",
    "print(\"delta_qu_next:\\n\",delta_qu_next)"
   ]
  },
  {
   "attachments": {},
   "cell_type": "markdown",
   "metadata": {},
   "source": [
    "Perfect! It shows us that we expect the box to move 0.001 more to the left, which appears to be directionally correct. Now feeding our nominal + delta configuration to evaluate the dynamics, let's see that we get that this is 0.001 different from the nominal configuration:"
   ]
  },
  {
   "cell_type": "code",
   "execution_count": null,
   "metadata": {},
   "outputs": [],
   "source": [
    "delta_q = np.concatenate((q_u, q_a + delta))\n",
    "q_next_2 = q_sim.calc_dynamics(delta_q, u + delta, sim_params)\n",
    "print(\"q_next: \", q_next)\n",
    "print(\"q_next_2: \",q_next_2)"
   ]
  },
  {
   "attachments": {},
   "cell_type": "markdown",
   "metadata": {},
   "source": [
    "Our results are exactly what we expect."
   ]
  },
  {
   "cell_type": "code",
   "execution_count": null,
   "metadata": {},
   "outputs": [],
   "source": []
  }
 ],
 "metadata": {
  "kernelspec": {
   "display_name": "venv",
   "language": "python",
   "name": "python3"
  },
  "language_info": {
   "codemirror_mode": {
    "name": "ipython",
    "version": 3
   },
   "file_extension": ".py",
   "mimetype": "text/x-python",
   "name": "python",
   "nbconvert_exporter": "python",
   "pygments_lexer": "ipython3",
   "version": "3.8.10"
  },
  "orig_nbformat": 4
 },
 "nbformat": 4,
 "nbformat_minor": 2
}
