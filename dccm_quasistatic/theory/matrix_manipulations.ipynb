{
 "cells": [
  {
   "cell_type": "code",
   "execution_count": 14,
   "metadata": {},
   "outputs": [
    {
     "name": "stdout",
     "output_type": "stream",
     "text": [
      "21\n",
      "[ 0  1  2  3  4  5  6  7  8  9 10 11 12 13 14]\n",
      "[[ 0.  1.  3.  6. 10.]\n",
      " [ 1.  2.  4.  7. 11.]\n",
      " [ 3.  4.  5.  8. 12.]\n",
      " [ 6.  7.  8.  9. 13.]\n",
      " [10. 11. 12. 13. 14.]]\n"
     ]
    }
   ],
   "source": [
    "import numpy as np\n",
    "def get_matrix_dim_from_n_lower_tri(n_lower_tri: int)-> int:\n",
    "    n = (np.sqrt(8 * n_lower_tri + 1) - 1) / 2\n",
    "    if n.is_integer():\n",
    "        return int(n)\n",
    "    else:\n",
    "        raise ValueError(f\"The input {n_lower_tri} does not correspond to a valid square matrix dimension.\")\n",
    "\n",
    "# print(get_matrix_dim_from_n_lower_tri(6))\n",
    "def create_symmetric_matrix_from_array(a):\n",
    "    n = get_matrix_dim_from_n_lower_tri(len(a))\n",
    "    A = np.zeros((n,n))\n",
    "    A[np.tril_indices(n)] = a\n",
    "    A = A + A.T - np.diag(A.diagonal())\n",
    "    return A\n",
    "\n",
    "def get_n_lower_tri_from_matrix_dim(n: int)-> int:\n",
    "    return int(n*(n+1)/2)\n",
    "\n",
    "print(get_n_lower_tri_from_matrix_dim(6))\n",
    "a = np.arange(0,15)\n",
    "print(a)\n",
    "tril = np.tril(a)\n",
    "print(create_symmetric_matrix_from_array(a))"
   ]
  },
  {
   "cell_type": "code",
   "execution_count": 20,
   "metadata": {},
   "outputs": [
    {
     "ename": "TypeError",
     "evalue": "DecomposeAffineExpressions(): incompatible function arguments. The following argument types are supported:\n    1. (expressions: numpy.ndarray[object[m, 1]], vars: numpy.ndarray[object[m, 1]]) -> Tuple[numpy.ndarray[numpy.float64[m, n]], numpy.ndarray[numpy.float64[m, 1]]]\n    2. (v: numpy.ndarray[object[m, 1]]) -> Tuple[numpy.ndarray[numpy.float64[m, n]], numpy.ndarray[numpy.float64[m, 1]], numpy.ndarray[object[m, 1]]]\n\nInvoked with: array([[<Expression \"x\">, <Expression \"y\">],\n       [1, <Expression \"(x + y)\">]], dtype=object), [Variable('x', Continuous), Variable('y', Continuous)]",
     "output_type": "error",
     "traceback": [
      "\u001b[0;31m---------------------------------------------------------------------------\u001b[0m",
      "\u001b[0;31mTypeError\u001b[0m                                 Traceback (most recent call last)",
      "\u001b[0;32m<ipython-input-20-422b0b4aec1f>\u001b[0m in \u001b[0;36m<module>\u001b[0;34m\u001b[0m\n\u001b[1;32m     17\u001b[0m \u001b[0;34m\u001b[0m\u001b[0m\n\u001b[1;32m     18\u001b[0m \u001b[0mmatrix\u001b[0m \u001b[0;34m=\u001b[0m \u001b[0mnp\u001b[0m\u001b[0;34m.\u001b[0m\u001b[0marray\u001b[0m\u001b[0;34m(\u001b[0m\u001b[0;34m[\u001b[0m\u001b[0;34m[\u001b[0m\u001b[0mx\u001b[0m\u001b[0;34m+\u001b[0m\u001b[0;36m0\u001b[0m\u001b[0;34m,\u001b[0m \u001b[0my\u001b[0m\u001b[0;34m+\u001b[0m\u001b[0;36m0\u001b[0m\u001b[0;34m]\u001b[0m\u001b[0;34m,\u001b[0m \u001b[0;34m[\u001b[0m\u001b[0;36m1\u001b[0m\u001b[0;34m,\u001b[0m \u001b[0mx\u001b[0m\u001b[0;34m+\u001b[0m\u001b[0my\u001b[0m\u001b[0;34m]\u001b[0m\u001b[0;34m]\u001b[0m\u001b[0;34m)\u001b[0m\u001b[0;34m\u001b[0m\u001b[0;34m\u001b[0m\u001b[0m\n\u001b[0;32m---> 19\u001b[0;31m \u001b[0mmatrix\u001b[0m \u001b[0;34m=\u001b[0m \u001b[0mDecomposeAffineExpressions\u001b[0m\u001b[0;34m(\u001b[0m\u001b[0mmatrix\u001b[0m\u001b[0;34m,\u001b[0m \u001b[0;34m[\u001b[0m\u001b[0mx\u001b[0m\u001b[0;34m,\u001b[0m\u001b[0my\u001b[0m\u001b[0;34m]\u001b[0m\u001b[0;34m)\u001b[0m\u001b[0;34m\u001b[0m\u001b[0;34m\u001b[0m\u001b[0m\n\u001b[0m\u001b[1;32m     20\u001b[0m \u001b[0minverse_matrix\u001b[0m \u001b[0;34m=\u001b[0m \u001b[0mmatrix\u001b[0m\u001b[0;34m.\u001b[0m\u001b[0minverse\u001b[0m\u001b[0;34m\u001b[0m\u001b[0;34m\u001b[0m\u001b[0m\n\u001b[1;32m     21\u001b[0m \u001b[0;34m\u001b[0m\u001b[0m\n",
      "\u001b[0;31mTypeError\u001b[0m: DecomposeAffineExpressions(): incompatible function arguments. The following argument types are supported:\n    1. (expressions: numpy.ndarray[object[m, 1]], vars: numpy.ndarray[object[m, 1]]) -> Tuple[numpy.ndarray[numpy.float64[m, n]], numpy.ndarray[numpy.float64[m, 1]]]\n    2. (v: numpy.ndarray[object[m, 1]]) -> Tuple[numpy.ndarray[numpy.float64[m, n]], numpy.ndarray[numpy.float64[m, 1]], numpy.ndarray[object[m, 1]]]\n\nInvoked with: array([[<Expression \"x\">, <Expression \"y\">],\n       [1, <Expression \"(x + y)\">]], dtype=object), [Variable('x', Continuous), Variable('y', Continuous)]"
     ]
    }
   ],
   "source": [
    "from pydrake.all import (DecomposeAffineExpressions, Variable)\n",
    "\n",
    "def matrix_inverse_pydrake(matrix, vars):\n",
    "    n = matrix.shape[0]\n",
    "    assert matrix.shape == (n, n), \"Input matrix must be square\"\n",
    "    \n",
    "    # Convert input matrix to pydrake symbolic Expression\n",
    "    matrix = DecomposeAffineExpressions(matrix, vars)\n",
    "    \n",
    "    # Compute inverse using pydrake's .inverse() method\n",
    "    inverse_matrix = matrix.inverse()\n",
    "    \n",
    "    return inverse_matrix\n",
    "\n",
    "x = Variable(\"x\")\n",
    "y = Variable(\"y\")\n",
    "\n",
    "matrix = np.array([[x+0, y+0], [1, x+y]])\n",
    "matrix = DecomposeAffineExpressions(matrix, [x,y])\n",
    "inverse_matrix = matrix.inverse\n",
    "\n",
    "print(inverse_matrix)"
   ]
  },
  {
   "cell_type": "code",
   "execution_count": 21,
   "metadata": {},
   "outputs": [],
   "source": [
    "import numpy as np\n",
    "\n",
    "def matrix_inverse(matrix):\n",
    "    n = matrix.shape[0]\n",
    "    assert matrix.shape == (n, n), \"Input matrix must be square\"\n",
    "    \n",
    "    augmented_matrix = np.hstack((matrix, np.eye(n)))\n",
    "    for i in range(n):\n",
    "        # Find pivot\n",
    "        max_row = i + np.argmax(np.abs(augmented_matrix[i:, i]))\n",
    "        # Swap rows\n",
    "        augmented_matrix[[i, max_row]] = augmented_matrix[[max_row, i]]\n",
    "        # Normalize pivot row\n",
    "        augmented_matrix[i] /= augmented_matrix[i, i]\n",
    "        # Eliminate other rows\n",
    "        for j in range(n):\n",
    "            if j != i:\n",
    "                augmented_matrix[j] -= augmented_matrix[j, i] * augmented_matrix[i]\n",
    "    return augmented_matrix[:, n:]"
   ]
  },
  {
   "cell_type": "code",
   "execution_count": 36,
   "metadata": {},
   "outputs": [],
   "source": [
    "def matrix_inverse(A):\n",
    "    n = len(A)\n",
    "    A = A.tolist()\n",
    "    I = np.identity(n).tolist()\n",
    "    \n",
    "    for fd in range(n):\n",
    "        fdScaler = 1.0 / A[fd][fd]\n",
    "        for j in range(n):\n",
    "            A[fd][j] = A[fd][j] * fdScaler\n",
    "            I[fd][j] = I[fd][j] * fdScaler\n",
    "        for i in list(range(n))[0:fd] + list(range(n))[fd+1:]:\n",
    "            crScaler = A[i][fd]\n",
    "            for j in range(n):\n",
    "                A[i][j] = A[i][j] - crScaler * A[fd][j]\n",
    "                I[i][j] = I[i][j] - crScaler * I[fd][j]\n",
    "    return np.array(I)"
   ]
  },
  {
   "cell_type": "code",
   "execution_count": 33,
   "metadata": {},
   "outputs": [],
   "source": [
    "from pydrake.all import (MathematicalProgram, MonomialBasis)\n",
    "prog = MathematicalProgram()\n",
    "deg = 2\n",
    "x = prog.NewContinuousVariables(2, \"x\")\n",
    "y = prog.NewContinuousVariables(2, \"y\")\n",
    "v = [monomial.ToExpression() for monomial in MonomialBasis(x, deg)]"
   ]
  },
  {
   "cell_type": "code",
   "execution_count": 34,
   "metadata": {},
   "outputs": [],
   "source": [
    "\n",
    "import random\n",
    "import numpy as np\n",
    "\n",
    "def get_minor_n_cofactor_matrix(matrix):\n",
    "    minor_matrix = np.zeros(matrix.shape)\n",
    "    cofactor_matrix = np.zeros(matrix.shape)\n",
    "    \n",
    "    matrix_rows, matrix_cols = matrix.shape\n",
    "    for row in range(matrix_rows):\n",
    "        for col in range(matrix_cols):\n",
    "            minor_sub_matrix = np.delete(matrix, row, axis=0)           # delete ith row\n",
    "            minor_sub_matrix = np.delete(minor_sub_matrix, col, axis=1) # delete jth column\n",
    "            minor = np.linalg.det(minor_sub_matrix)                     # determinant of submatrix\n",
    "            minor_matrix[row, col] = minor\n",
    "            cofactor_matrix[row, col] = (-1)**(row+col) * minor         # cofactor from minor\n",
    "    return minor_matrix, cofactor_matrix\n",
    "\n",
    "def get_determinant(matrix, cofactor_matrix):\n",
    "    matrix_rows, matrix_cols = matrix.shape\n",
    "    is_any_row = bool(random.getrandbits(1))        # to enter calculation by row or column randomnly\n",
    "    rand_idx = random.randint(0, matrix_rows-1)     # to get any row or any col by random\n",
    "    \n",
    "    if is_any_row:\n",
    "        determinant = sum(matrix[rand_idx, :] * cofactor_matrix[rand_idx, :]) # any row \n",
    "    else: \n",
    "        determinant = sum(matrix[:, rand_idx] * cofactor_matrix[:, rand_idx]) # any column \n",
    "    \n",
    "    return determinant\n",
    "\n",
    "def matrix_inverse(matrix):\n",
    "    matrix_rows, matrix_cols = matrix.shape\n",
    "    assert matrix_rows == matrix_cols, \"Input matrix must be square\"\n",
    "    \n",
    "    minor_matrix, cofactor_matrix = get_minor_n_cofactor_matrix(matrix)\n",
    "    determinant = get_determinant(matrix, cofactor_matrix)\n",
    "    \n",
    "    inverse_matrix = (1/determinant) * cofactor_matrix.T\n",
    "    \n",
    "    return inverse_matrix"
   ]
  },
  {
   "cell_type": "code",
   "execution_count": null,
   "metadata": {},
   "outputs": [],
   "source": [
    "def smaller_matrix(original_matrix,row, column):\n",
    "    for ii in range(len(original_matrix)):\n",
    "        new_matrix=np.delete(original_matrix,ii,0)\n",
    "        new_matrix=np.delete(new_matrix,column,1)\n",
    "        return new_matrix\n",
    "\n",
    "\n",
    "def determinant(matrix):\n",
    "    \"\"\"Returns a determinant of a matrix by recursive method.\"\"\"\n",
    "    (r,c) = matrix.shape \n",
    "    if r != c:\n",
    "        print(\"Error!Not a square matrix!\")\n",
    "        return None\n",
    "    elif r==2:\n",
    "        simple_determinant = matrix[0][0]*matrix[1][1]-matrix[0][1]*matrix[1][0]\n",
    "        return simple_determinant\n",
    "    else: \n",
    "        answer=0\n",
    "        for j in range(r):\n",
    "            cofactor = (-1)**(0+j) * matrix[0][j] * determinant(smaller_matrix(matrix, 0, j))\n",
    "            answer+= cofactor\n",
    "        return answer"
   ]
  },
  {
   "cell_type": "code",
   "execution_count": 10,
   "metadata": {},
   "outputs": [],
   "source": [
    "def transposeMatrix(m):\n",
    "    return list(map(list,zip(*m)))\n",
    "\n",
    "def getMatrixMinor(m,i,j):\n",
    "    return [row[:j] + row[j+1:] for row in (m[:i]+m[i+1:])]\n",
    "\n",
    "def getMatrixDeternminant(m):\n",
    "    #base case for 2x2 matrix\n",
    "    if len(m) == 2:\n",
    "        return m[0][0]*m[1][1]-m[0][1]*m[1][0]\n",
    "\n",
    "    determinant = 0\n",
    "    for c in range(len(m)):\n",
    "        determinant += ((-1)**c)*m[0][c]*getMatrixDeternminant(getMatrixMinor(m,0,c))\n",
    "    return determinant\n",
    "\n",
    "def getMatrixInverse(m):\n",
    "    if isinstance(m, np.ndarray):\n",
    "        m = m.tolist()\n",
    "    determinant = getMatrixDeternminant(m)\n",
    "    #special case for 2x2 matrix:\n",
    "    if len(m) == 2:\n",
    "        return [[m[1][1]/determinant, -1*m[0][1]/determinant],\n",
    "                [-1*m[1][0]/determinant, m[0][0]/determinant]]\n",
    "\n",
    "    #find matrix of cofactors\n",
    "    cofactors = []\n",
    "    for r in range(len(m)):\n",
    "        cofactorRow = []\n",
    "        for c in range(len(m)):\n",
    "            minor = getMatrixMinor(m,r,c)\n",
    "            cofactorRow.append(((-1)**(r+c)) * getMatrixDeternminant(minor))\n",
    "        cofactors.append(cofactorRow)\n",
    "    cofactors = transposeMatrix(cofactors)\n",
    "    for r in range(len(cofactors)):\n",
    "        for c in range(len(cofactors)):\n",
    "            cofactors[r][c] = cofactors[r][c]/determinant\n",
    "    return np.array(cofactors)"
   ]
  },
  {
   "cell_type": "code",
   "execution_count": 11,
   "metadata": {},
   "outputs": [
    {
     "name": "stdout",
     "output_type": "stream",
     "text": [
      "[[ 1  2 -1]\n",
      " [ 2  1  2]\n",
      " [-1  2  1]]\n",
      "[[ 0.1875  0.25   -0.3125]\n",
      " [ 0.25    0.      0.25  ]\n",
      " [-0.3125  0.25    0.1875]]\n",
      "[[ 0.1875  0.25   -0.3125]\n",
      " [ 0.25   -0.      0.25  ]\n",
      " [-0.3125  0.25    0.1875]]\n",
      "[[ 2.50000000e-01 -9.09090909e-02  2.27272727e-02]\n",
      " [-8.33333333e-02  1.81818182e-01 -1.28787879e-01]\n",
      " [ 2.01858732e-18 -9.09090909e-02  2.72727273e-01]]\n",
      "[[ 0.25       -0.09090909  0.02272727]\n",
      " [-0.08333333  0.18181818 -0.12878788]\n",
      " [ 0.         -0.09090909  0.27272727]]\n"
     ]
    }
   ],
   "source": [
    "import numpy as np\n",
    "a = np.array([[1,2,-1],[2,1,2],[-1,2,1]])\n",
    "print(a)\n",
    "print(np.linalg.inv(a))\n",
    "print(getMatrixInverse(a))\n",
    "a = np.array([[5., 3., 1.], [3., 9., 4.], [1., 3., 5.]])\n",
    "print(np.linalg.inv(a))\n",
    "print(getMatrixInverse(a))"
   ]
  },
  {
   "cell_type": "code",
   "execution_count": 38,
   "metadata": {},
   "outputs": [
    {
     "name": "stdout",
     "output_type": "stream",
     "text": [
      "[[ 1  2 -1]\n",
      " [ 2  1  2]\n",
      " [-1  2  1]]\n",
      "[[ 0.1875  0.25   -0.3125]\n",
      " [ 0.25    0.      0.25  ]\n",
      " [-0.3125  0.25    0.1875]]\n",
      "[[ 0.1875  0.25   -0.3125]\n",
      " [ 0.25    0.      0.25  ]\n",
      " [-0.3125  0.25    0.1875]]\n",
      "[[ 2.50000000e-01 -9.09090909e-02  2.27272727e-02]\n",
      " [-8.33333333e-02  1.81818182e-01 -1.28787879e-01]\n",
      " [ 2.01858732e-18 -9.09090909e-02  2.72727273e-01]]\n",
      "[[ 0.25       -0.09090909  0.02272727]\n",
      " [-0.08333333  0.18181818 -0.12878788]\n",
      " [ 0.         -0.09090909  0.27272727]]\n"
     ]
    }
   ],
   "source": [
    "a = np.array([[1,2,-1],[2,1,2],[-1,2,1]])\n",
    "print(a)\n",
    "print(np.linalg.inv(a))\n",
    "print(matrix_inverse(a))\n",
    "a = np.array([[5., 3., 1.], [3., 9., 4.], [1., 3., 5.]])\n",
    "print(np.linalg.inv(a))\n",
    "print(matrix_inverse(a))"
   ]
  },
  {
   "cell_type": "code",
   "execution_count": null,
   "metadata": {},
   "outputs": [],
   "source": []
  }
 ],
 "metadata": {
  "kernelspec": {
   "display_name": "venv",
   "language": "python",
   "name": "python3"
  },
  "language_info": {
   "codemirror_mode": {
    "name": "ipython",
    "version": 3
   },
   "file_extension": ".py",
   "mimetype": "text/x-python",
   "name": "python",
   "nbconvert_exporter": "python",
   "pygments_lexer": "ipython3",
   "version": "3.8.10"
  },
  "orig_nbformat": 4
 },
 "nbformat": 4,
 "nbformat_minor": 2
}
